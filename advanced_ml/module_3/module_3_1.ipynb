{
 "cells": [
  {
   "cell_type": "markdown",
   "metadata": {},
   "source": [
    "### Задача 1"
   ]
  },
  {
   "cell_type": "code",
   "execution_count": 2,
   "metadata": {},
   "outputs": [
    {
     "name": "stderr",
     "output_type": "stream",
     "text": [
      "/Users/nadezdaoskina/.pyenv/versions/3.10.9/lib/python3.10/site-packages/spacy/util.py:910: UserWarning: [W095] Model 'en_core_web_sm' (3.7.1) was trained with spaCy v3.7.2 and may not be 100% compatible with the current version (3.7.1). If you see errors or degraded performance, download a newer compatible model or retrain your custom model with the current spaCy version. For more details and available updates, run: python -m spacy validate\n",
      "  warnings.warn(warn_msg)\n"
     ]
    }
   ],
   "source": [
    "import spacy\n",
    "import numpy as np\n",
    "nlp = spacy.load('en_core_web_sm')\n",
    "word_1 = 'cat'\n",
    "word_2 = 'cow'"
   ]
  },
  {
   "cell_type": "code",
   "execution_count": 3,
   "metadata": {},
   "outputs": [],
   "source": [
    "vector_1 = nlp(word_1).vector\n",
    "vector_2 = nlp(word_2).vector"
   ]
  },
  {
   "cell_type": "code",
   "execution_count": 4,
   "metadata": {},
   "outputs": [],
   "source": [
    "cosine_similarity = np.dot(vector_1, vector_2) /(np.linalg.norm(vector_1) * np.linalg.norm(vector_2))"
   ]
  },
  {
   "cell_type": "code",
   "execution_count": 5,
   "metadata": {},
   "outputs": [
    {
     "name": "stdout",
     "output_type": "stream",
     "text": [
      "0.775\n"
     ]
    }
   ],
   "source": [
    "result = round(cosine_similarity, 3)\n",
    "print(result)"
   ]
  },
  {
   "cell_type": "markdown",
   "metadata": {},
   "source": [
    "### Задача 2"
   ]
  },
  {
   "cell_type": "code",
   "execution_count": 6,
   "metadata": {},
   "outputs": [],
   "source": [
    "sentence_1 = \"Сегодня очень холодно на улице\"\n",
    "sentence_2 = \"На улице сегодня очень холодно\""
   ]
  },
  {
   "cell_type": "code",
   "execution_count": 11,
   "metadata": {},
   "outputs": [
    {
     "name": "stdout",
     "output_type": "stream",
     "text": [
      "Косинусная мера между предложениями: 0.9070000052452087\n"
     ]
    }
   ],
   "source": [
    "vector_1 = nlp(sentence_1).vector\n",
    "vector_2 = nlp(sentence_2).vector\n",
    "\n",
    "# Расчёт косинусной меры между векторами\n",
    "cosine_similarity = np.dot(vector_1, vector_2) / (np.linalg.norm(vector_1) * np.linalg.norm(vector_2))\n",
    "\n",
    "# Округление результата до 3 знаков после запятой\n",
    "result = round(cosine_similarity, 3)\n",
    "\n",
    "# Вывод результата\n",
    "print(f\"Косинусная мера между предложениями: {result}\")"
   ]
  },
  {
   "cell_type": "code",
   "execution_count": null,
   "metadata": {},
   "outputs": [],
   "source": [
    "# Предлагаем свериться с возможным вариантом решения.\n",
    "\n",
    "import spacy\n",
    "import numpy as np\n",
    "nlp = spacy.load(\"ru_core_news_lg\")\n",
    "def cosine_similarity(s1, s2):\n",
    "    doc1 = nlp(s1)\n",
    "    doc2 = nlp(s2)\n",
    "    vec1 = doc1.vector\n",
    "    vec2 = doc2.vector\n",
    "    if np.linalg.norm(vec1)*np.linalg.norm(vec2) > 0:\n",
    "      return np.dot(vec1, vec2) / (np.linalg.norm(vec1)*np.linalg.norm(vec2))\n",
    "    else:\n",
    "      return 0\n",
    "s1 = \"Сегодня очень холодно на улице\"\n",
    "s2 = \"На улице сегодня очень холодно\"\n",
    "similarity = cosine_similarity(s1, s2)\n",
    "print(f\"Косинусная мера угла между предложениями '{s1}' и '{s2}': {similarity}\")\n",
    "s1 = \"Обезьяны любят бананы\"\n",
    "s2 = \"Собаки не любят молоко\"\n",
    "similarity = cosine_similarity(s1, s2)\n",
    "print(f\"Косинусная мера угла между предложениями '{s1}' и '{s2}': {similarity}\")\n"
   ]
  },
  {
   "cell_type": "markdown",
   "metadata": {},
   "source": [
    "### Задача 3"
   ]
  },
  {
   "cell_type": "code",
   "execution_count": 12,
   "metadata": {},
   "outputs": [
    {
     "name": "stdout",
     "output_type": "stream",
     "text": [
      "Products: Chair and Table - Similarity: 0.259\n",
      "Products: Ottoman and Dresser - Similarity: 0.251\n",
      "Products: Chair and Sofa - Similarity: 0.251\n",
      "Products: Chair and Bed - Similarity: 0.246\n",
      "Products: Table and Dresser - Similarity: 0.241\n"
     ]
    }
   ],
   "source": [
    "import pandas as pd\n",
    "import spacy\n",
    "from sklearn.feature_extraction.text import TfidfVectorizer\n",
    "from sklearn.metrics.pairwise import cosine_similarity\n",
    "\n",
    "# Load the dataset\n",
    "data = pd.read_csv(\"data/product_description.csv\")\n",
    "\n",
    "# Load spaCy language model\n",
    "nlp = spacy.load(\"en_core_web_sm\")\n",
    "\n",
    "# Preprocessing function\n",
    "def preprocess_text(text):\n",
    "    doc = nlp(text)\n",
    "    tokens = [token.lemma_.lower() for token in doc if not token.is_stop and not token.is_punct]\n",
    "    return \" \".join(tokens)\n",
    "\n",
    "# Apply preprocessing to the description column\n",
    "data['processed_text'] = data['description'].apply(preprocess_text)\n",
    "\n",
    "# Vectorize the processed text using TF-IDF\n",
    "vectorizer = TfidfVectorizer()\n",
    "vectors = vectorizer.fit_transform(data['processed_text'])\n",
    "\n",
    "# Calculate cosine similarity matrix\n",
    "cosine_sim_matrix = cosine_similarity(vectors)\n",
    "\n",
    "# Find top-5 most similar products\n",
    "similarities = []\n",
    "for i in range(len(data)):\n",
    "    for j in range(i + 1, len(data)):\n",
    "        similarities.append((cosine_sim_matrix[i, j], data['product_name'][i], data['product_name'][j]))\n",
    "\n",
    "# Sort by similarity score in descending order\n",
    "similarities = sorted(similarities, key=lambda x: x[0], reverse=True)\n",
    "\n",
    "# Display top-5 most similar product pairs\n",
    "top_5_similar = similarities[:5]\n",
    "for score, product1, product2 in top_5_similar:\n",
    "    print(f\"Products: {product1} and {product2} - Similarity: {round(score, 3)}\")\n"
   ]
  },
  {
   "cell_type": "code",
   "execution_count": 15,
   "metadata": {},
   "outputs": [
    {
     "name": "stdout",
     "output_type": "stream",
     "text": [
      "Top 5 similar items for Chair:\n",
      "[(0.2593876295324481, 'Table'), (0.25055127750774986, 'Sofa'), (0.24561802198055008, 'Bed'), (0.11469978576166628, 'Desk')]\n",
      "\n",
      "Top 5 similar items for Sofa:\n",
      "[(0.25055127750774986, 'Chair'), (0.16258619842261424, 'Ottoman'), (0.13009805981223888, 'Bookshelf'), (0.08915638255306323, 'Dresser')]\n",
      "\n",
      "Top 5 similar items for Table:\n",
      "[(0.2593876295324481, 'Chair'), (0.24096224354397955, 'Dresser'), (0.16801123015453076, 'Ottoman'), (0.08941424217490086, 'Bed')]\n",
      "\n",
      "Top 5 similar items for Bed:\n",
      "[(0.24561802198055008, 'Chair'), (0.08941424217490086, 'Table'), (0.0880478167497522, 'TV Stand'), (0.024477160600450878, 'Dresser')]\n",
      "\n",
      "Top 5 similar items for Bookshelf:\n",
      "[(0.21924673021588997, 'TV Stand'), (0.15880746901055803, 'Cabinet'), (0.13009805981223888, 'Sofa'), (0.10482488731104447, 'Dresser')]\n",
      "\n",
      "Top 5 similar items for Desk:\n",
      "[(0.22556771102764483, 'Dresser'), (0.11469978576166628, 'Chair'), (0.09609143719920325, 'Cabinet'), (0.02234343682389054, 'Ottoman')]\n",
      "\n",
      "Top 5 similar items for Ottoman:\n",
      "[(0.25085690793255755, 'Dresser'), (0.16801123015453076, 'Table'), (0.16258619842261424, 'Sofa'), (0.08649496922372168, 'Chair')]\n",
      "\n",
      "Top 5 similar items for Cabinet:\n",
      "[(0.1790465554007803, 'TV Stand'), (0.15880746901055803, 'Bookshelf'), (0.12288113525793229, 'Dresser'), (0.09609143719920325, 'Desk')]\n",
      "\n",
      "Top 5 similar items for Dresser:\n",
      "[(0.25085690793255755, 'Ottoman'), (0.24096224354397955, 'Table'), (0.22556771102764483, 'Desk'), (0.12288113525793229, 'Cabinet')]\n",
      "\n",
      "Top 5 similar items for TV Stand:\n",
      "[(0.21924673021588997, 'Bookshelf'), (0.1790465554007803, 'Cabinet'), (0.09758672963495613, 'Chair'), (0.0880478167497522, 'Bed')]\n",
      "\n"
     ]
    }
   ],
   "source": [
    "# Предлагаем свериться возможным вариантом решения\n",
    "\n",
    "import spacy\n",
    "import pandas as pd\n",
    "from sklearn.feature_extraction.text import TfidfVectorizer\n",
    "from sklearn.metrics.pairwise import cosine_similarity\n",
    "# Загрузка модели языка\n",
    "nlp = spacy.load(\"en_core_web_sm\")\n",
    "# Загрузка датасета с описанием товаров\n",
    "data = pd.read_csv('data/product_description.csv')\n",
    "# Предобработка текста\n",
    "def preprocess_text(text):\n",
    "    doc = nlp(text)\n",
    "    tokens = [token.lemma_.lower() for token in doc if not token.is_stop and not token.is_punct]\n",
    "    return \" \".join(tokens)\n",
    "data['processed_text'] = data['description'].apply(preprocess_text)\n",
    "# Создание матрицы векторов для каждого товара\n",
    "vectorizer = TfidfVectorizer()\n",
    "vectors = vectorizer.fit_transform(data['processed_text'])\n",
    "# Расчет косинусной меры угла между каждой парой товаров\n",
    "cosine_similarities = cosine_similarity(vectors)\n",
    "# Отображение топ-5 товаров, которые наиболее похожи друг на друга\n",
    "for i, row in data.iterrows():\n",
    "    similar_indices = cosine_similarities[i].argsort()[:-6:-1]\n",
    "    similar_items = [(cosine_similarities[i][j], data['product_name'][j]) for j in similar_indices if j != i]\n",
    "    print(f\"Top 5 similar items for {row['product_name']}:\\n{similar_items}\\n\")"
   ]
  }
 ],
 "metadata": {
  "kernelspec": {
   "display_name": "Python 3",
   "language": "python",
   "name": "python3"
  },
  "language_info": {
   "codemirror_mode": {
    "name": "ipython",
    "version": 3
   },
   "file_extension": ".py",
   "mimetype": "text/x-python",
   "name": "python",
   "nbconvert_exporter": "python",
   "pygments_lexer": "ipython3",
   "version": "3.10.9"
  }
 },
 "nbformat": 4,
 "nbformat_minor": 2
}

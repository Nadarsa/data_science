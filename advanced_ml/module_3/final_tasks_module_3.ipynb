{
 "cells": [
  {
   "cell_type": "code",
   "execution_count": 15,
   "metadata": {},
   "outputs": [],
   "source": [
    "# 1. Прогнозирование с помощью линейной регрессии\n",
    "import numpy as np\n",
    "from sklearn.linear_model import LinearRegression\n",
    "#Данные для обучения\n",
    "X = np.array([[1, 1, 1], [1, 2, 2], [2, 2, 3], [2, 3, 5]])\n",
    "\n",
    "#Значения функции\n",
    "y = np.array([9, 14, 18, 26])\n",
    "\n",
    "#Значение переменных для прогноза функции y_pred\n",
    "X_pred = np.array([[3, 5, 7]])\n",
    "\n",
    "#Далее запишите ваш код\n",
    "lr_model = LinearRegression()\n",
    "lr_model.fit(X, y)\n",
    "coeff_ = lr_model.coef_\n",
    "y_pred = lr_model.predict(X_pred)\n",
    "answer = np.concatenate([coeff_, y_pred])"
   ]
  },
  {
   "cell_type": "code",
   "execution_count": 16,
   "metadata": {},
   "outputs": [
    {
     "ename": "NameError",
     "evalue": "name 'train_test_split' is not defined",
     "output_type": "error",
     "traceback": [
      "\u001b[0;31m---------------------------------------------------------------------------\u001b[0m",
      "\u001b[0;31mNameError\u001b[0m                                 Traceback (most recent call last)",
      "Cell \u001b[0;32mIn[16], line 6\u001b[0m\n\u001b[1;32m      1\u001b[0m \u001b[38;5;66;03m# 2. Прогнозирование с помощью логистической регрессии\u001b[39;00m\n\u001b[1;32m      2\u001b[0m \u001b[38;5;66;03m#Здесь будет выполнена генерация данных для модели\u001b[39;00m\n\u001b[1;32m      3\u001b[0m \u001b[38;5;66;03m#Данный код будет автоматически выполнен при запуске вашей программы\u001b[39;00m\n\u001b[1;32m      5\u001b[0m \u001b[38;5;28;01mfrom\u001b[39;00m \u001b[38;5;21;01msklearn\u001b[39;00m\u001b[38;5;21;01m.\u001b[39;00m\u001b[38;5;21;01mlinear_model\u001b[39;00m \u001b[38;5;28;01mimport\u001b[39;00m LogisticRegression\n\u001b[0;32m----> 6\u001b[0m x_train, x_test, y_train, y_test \u001b[38;5;241m=\u001b[39m \u001b[43mtrain_test_split\u001b[49m(X, y, test_size\u001b[38;5;241m=\u001b[39m\u001b[38;5;241m0.25\u001b[39m, random_state\u001b[38;5;241m=\u001b[39m\u001b[38;5;241m0\u001b[39m)\n\u001b[1;32m      8\u001b[0m \u001b[38;5;66;03m#Далее запишите ваш код\u001b[39;00m\n\u001b[1;32m      9\u001b[0m logistic_model \u001b[38;5;241m=\u001b[39m LogisticRegression()\n",
      "\u001b[0;31mNameError\u001b[0m: name 'train_test_split' is not defined"
     ]
    }
   ],
   "source": [
    "# 2. Прогнозирование с помощью логистической регрессии\n",
    "#Здесь будет выполнена генерация данных для модели\n",
    "#Данный код будет автоматически выполнен при запуске вашей программы\n",
    "\n",
    "from sklearn.linear_model import LogisticRegression\n",
    "x_train, x_test, y_train, y_test = train_test_split(X, y, test_size=0.25, random_state=0)\n",
    "\n",
    "#Далее запишите ваш код\n",
    "logistic_model = LogisticRegression()\n",
    "logistic_model.fit(x_train, y_train)\n",
    "y_pred = logistic_model.predict(x_test)"
   ]
  },
  {
   "cell_type": "code",
   "execution_count": 17,
   "metadata": {},
   "outputs": [
    {
     "name": "stderr",
     "output_type": "stream",
     "text": [
      "/Users/nadezdaoskina/.pyenv/versions/3.10.9/lib/python3.10/site-packages/sklearn/cluster/_kmeans.py:1412: FutureWarning: The default value of `n_init` will change from 10 to 'auto' in 1.4. Set the value of `n_init` explicitly to suppress the warning\n",
      "  super()._check_params_vs_input(X, default_n_init=10)\n",
      "/Users/nadezdaoskina/.pyenv/versions/3.10.9/lib/python3.10/site-packages/sklearn/cluster/_kmeans.py:1412: FutureWarning: The default value of `n_init` will change from 10 to 'auto' in 1.4. Set the value of `n_init` explicitly to suppress the warning\n",
      "  super()._check_params_vs_input(X, default_n_init=10)\n",
      "/Users/nadezdaoskina/.pyenv/versions/3.10.9/lib/python3.10/site-packages/sklearn/cluster/_kmeans.py:1412: FutureWarning: The default value of `n_init` will change from 10 to 'auto' in 1.4. Set the value of `n_init` explicitly to suppress the warning\n",
      "  super()._check_params_vs_input(X, default_n_init=10)\n",
      "/Users/nadezdaoskina/.pyenv/versions/3.10.9/lib/python3.10/site-packages/sklearn/cluster/_kmeans.py:1412: FutureWarning: The default value of `n_init` will change from 10 to 'auto' in 1.4. Set the value of `n_init` explicitly to suppress the warning\n",
      "  super()._check_params_vs_input(X, default_n_init=10)\n",
      "/Users/nadezdaoskina/.pyenv/versions/3.10.9/lib/python3.10/site-packages/sklearn/cluster/_kmeans.py:1412: FutureWarning: The default value of `n_init` will change from 10 to 'auto' in 1.4. Set the value of `n_init` explicitly to suppress the warning\n",
      "  super()._check_params_vs_input(X, default_n_init=10)\n",
      "/Users/nadezdaoskina/.pyenv/versions/3.10.9/lib/python3.10/site-packages/sklearn/cluster/_kmeans.py:1412: FutureWarning: The default value of `n_init` will change from 10 to 'auto' in 1.4. Set the value of `n_init` explicitly to suppress the warning\n",
      "  super()._check_params_vs_input(X, default_n_init=10)\n",
      "/Users/nadezdaoskina/.pyenv/versions/3.10.9/lib/python3.10/site-packages/sklearn/cluster/_kmeans.py:1412: FutureWarning: The default value of `n_init` will change from 10 to 'auto' in 1.4. Set the value of `n_init` explicitly to suppress the warning\n",
      "  super()._check_params_vs_input(X, default_n_init=10)\n",
      "/Users/nadezdaoskina/.pyenv/versions/3.10.9/lib/python3.10/site-packages/sklearn/cluster/_kmeans.py:1412: FutureWarning: The default value of `n_init` will change from 10 to 'auto' in 1.4. Set the value of `n_init` explicitly to suppress the warning\n",
      "  super()._check_params_vs_input(X, default_n_init=10)\n",
      "/Users/nadezdaoskina/.pyenv/versions/3.10.9/lib/python3.10/site-packages/sklearn/cluster/_kmeans.py:1412: FutureWarning: The default value of `n_init` will change from 10 to 'auto' in 1.4. Set the value of `n_init` explicitly to suppress the warning\n",
      "  super()._check_params_vs_input(X, default_n_init=10)\n"
     ]
    },
    {
     "data": {
      "text/plain": [
       "Text(0, 0.5, 'WCSS')"
      ]
     },
     "execution_count": 17,
     "metadata": {},
     "output_type": "execute_result"
    },
    {
     "data": {
      "image/png": "[encoded data removed]",
      "text/plain": [
       "<Figure size 640x480 with 1 Axes>"
      ]
     },
     "metadata": {},
     "output_type": "display_data"
    }
   ],
   "source": [
    "# 4. Определение оптимального числа кластеров методом K-means\n",
    "from sklearn.cluster import KMeans\n",
    "import matplotlib.pyplot as plt\n",
    "import pandas as pd\n",
    "import numpy as np\n",
    "\n",
    "data = pd.read_csv('data/Electric_Car.csv')\n",
    "X = data[[\"AccelSec\", \"TopSpeed_KmH\", \"Range_Km\", \"PriceEuro\"]]\n",
    "wcss = []\n",
    "for clusters in range(1, 10):\n",
    "    kmeans = KMeans(n_clusters=clusters, random_state=0)\n",
    "    kmeans.fit(X)\n",
    "    wcss.append(kmeans.inertia_)\n",
    "    \n",
    "plt.plot(range(1, 10), wcss)\n",
    "plt.title('Метод локтя')\n",
    "plt.xlabel('Количество кластеров')\n",
    "plt.ylabel('WCSS')"
   ]
  },
  {
   "cell_type": "code",
   "execution_count": 18,
   "metadata": {},
   "outputs": [
    {
     "name": "stderr",
     "output_type": "stream",
     "text": [
      "/Users/nadezdaoskina/.pyenv/versions/3.10.9/lib/python3.10/site-packages/sklearn/cluster/_kmeans.py:1412: FutureWarning: The default value of `n_init` will change from 10 to 'auto' in 1.4. Set the value of `n_init` explicitly to suppress the warning\n",
      "  super()._check_params_vs_input(X, default_n_init=10)\n"
     ]
    },
    {
     "data": {
      "text/plain": [
       "209833.221"
      ]
     },
     "execution_count": 18,
     "metadata": {},
     "output_type": "execute_result"
    }
   ],
   "source": [
    "kmeans = KMeans(n_clusters=4, random_state=0)\n",
    "kmeans.fit(X)\n",
    "cluster_centers_ = np.round(np.linalg.norm(kmeans.cluster_centers_), 3)\n",
    "cluster_centers_"
   ]
  },
  {
   "cell_type": "code",
   "execution_count": 19,
   "metadata": {},
   "outputs": [],
   "source": [
    "# 4. Определение матрицы рейтингов с использованием SVD\n",
    "import numpy as np\n",
    "from scipy.sparse.linalg import svds\n",
    "\n",
    "\n",
    "ratings = np.array([[3, 1, 0, 1],\n",
    "               \t[0, 3, 0, 1],\n",
    "               \t[1, 2, 0, 5],\n",
    "               \t[1, 0, 0, 2],\n",
    "               \t[0, 1, 3, 1]]).astype(float)\n",
    "\n",
    "#Далее запишите ваш код\n",
    "U, S, Vt = svds(ratings, k=2)\n",
    "S_diag = np.diag(S)\n",
    "rating_prediction = np.dot(np.dot(U, S_diag), Vt)"
   ]
  },
  {
   "cell_type": "code",
   "execution_count": 23,
   "metadata": {},
   "outputs": [],
   "source": [
    "# 5. Применение фильтра к изображению\n",
    "import numpy as np\n",
    "\n",
    "image = np.array([[1, 2, 1, 1, 3],\n",
    "              \t  [0, 1, 2, 3, 4],\n",
    "              \t  [0, 0, 1, 2, 3],\n",
    "              \t  [3, 2, 1, 5, 0],\n",
    "              \t  [1, 2, 3, 1, 7]])\n",
    "\n",
    "filter = np.array([[1, 0, 1],\n",
    "               \t  [0, 1, 0],\n",
    "               \t  [1, 0, 1]])\n",
    "\n",
    "\n",
    "height_a, width_a = image.shape\n",
    "height_f, width_f = filter.shape\n",
    "\n",
    "feature_map = np.zeros((height_f, width_f))\n",
    "\n",
    "for i in range(3):\n",
    "    for j in range(3):\n",
    "        # получаем окно размером 3x3, начиная с текущей позиции\n",
    "        window = image[i: i+3, j: j+3]\n",
    "        # перемножаем окно с матрицей фильтра\n",
    "        result = window * filter\n",
    "        # суммируем результаты умножения, чтобы получить новое значение в выходной матрице C\n",
    "        feature_map[i, j] = np.sum(result)\n"
   ]
  }
 ],
 "metadata": {
  "kernelspec": {
   "display_name": "3.10.9",
   "language": "python",
   "name": "python3"
  },
  "language_info": {
   "codemirror_mode": {
    "name": "ipython",
    "version": 3
   },
   "file_extension": ".py",
   "mimetype": "text/x-python",
   "name": "python",
   "nbconvert_exporter": "python",
   "pygments_lexer": "ipython3",
   "version": "3.10.9"
  }
 },
 "nbformat": 4,
 "nbformat_minor": 2
}

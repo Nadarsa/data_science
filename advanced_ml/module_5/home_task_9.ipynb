{
 "cells": [
  {
   "cell_type": "code",
   "execution_count": 44,
   "id": "e239d2d6",
   "metadata": {},
   "outputs": [],
   "source": [
    "import pandas as pd\n",
    "import numpy as np\n",
    "import matplotlib.pyplot as plt\n",
    "import seaborn as sns\n",
    "from sklearn import cluster\n",
    "from scipy.cluster.hierarchy import linkage, fcluster\n",
    "\n"
   ]
  },
  {
   "cell_type": "code",
   "execution_count": 6,
   "id": "717ee08d",
   "metadata": {},
   "outputs": [
    {
     "data": {
      "text/html": [
       "<div>\n",
       "<style scoped>\n",
       "    .dataframe tbody tr th:only-of-type {\n",
       "        vertical-align: middle;\n",
       "    }\n",
       "\n",
       "    .dataframe tbody tr th {\n",
       "        vertical-align: top;\n",
       "    }\n",
       "\n",
       "    .dataframe thead th {\n",
       "        text-align: right;\n",
       "    }\n",
       "</style>\n",
       "<table border=\"1\" class=\"dataframe\">\n",
       "  <thead>\n",
       "    <tr style=\"text-align: right;\">\n",
       "      <th></th>\n",
       "      <th>F0</th>\n",
       "      <th>F1</th>\n",
       "      <th>F2</th>\n",
       "      <th>F3</th>\n",
       "      <th>LABEL</th>\n",
       "    </tr>\n",
       "  </thead>\n",
       "  <tbody>\n",
       "    <tr>\n",
       "      <th>0</th>\n",
       "      <td>-2.182270</td>\n",
       "      <td>8.795186</td>\n",
       "      <td>5.469284</td>\n",
       "      <td>-0.237966</td>\n",
       "      <td>0</td>\n",
       "    </tr>\n",
       "    <tr>\n",
       "      <th>1</th>\n",
       "      <td>3.698693</td>\n",
       "      <td>3.215945</td>\n",
       "      <td>-10.741661</td>\n",
       "      <td>10.535512</td>\n",
       "      <td>2</td>\n",
       "    </tr>\n",
       "    <tr>\n",
       "      <th>2</th>\n",
       "      <td>-7.254824</td>\n",
       "      <td>-7.197825</td>\n",
       "      <td>-7.556684</td>\n",
       "      <td>7.881214</td>\n",
       "      <td>1</td>\n",
       "    </tr>\n",
       "    <tr>\n",
       "      <th>3</th>\n",
       "      <td>-3.186120</td>\n",
       "      <td>9.625962</td>\n",
       "      <td>5.670878</td>\n",
       "      <td>2.904450</td>\n",
       "      <td>0</td>\n",
       "    </tr>\n",
       "    <tr>\n",
       "      <th>4</th>\n",
       "      <td>2.279499</td>\n",
       "      <td>3.920786</td>\n",
       "      <td>-9.580430</td>\n",
       "      <td>9.072586</td>\n",
       "      <td>2</td>\n",
       "    </tr>\n",
       "    <tr>\n",
       "      <th>...</th>\n",
       "      <td>...</td>\n",
       "      <td>...</td>\n",
       "      <td>...</td>\n",
       "      <td>...</td>\n",
       "      <td>...</td>\n",
       "    </tr>\n",
       "    <tr>\n",
       "      <th>995</th>\n",
       "      <td>-6.423739</td>\n",
       "      <td>-4.715107</td>\n",
       "      <td>-9.481846</td>\n",
       "      <td>8.251363</td>\n",
       "      <td>1</td>\n",
       "    </tr>\n",
       "    <tr>\n",
       "      <th>996</th>\n",
       "      <td>1.512494</td>\n",
       "      <td>4.195893</td>\n",
       "      <td>-12.076637</td>\n",
       "      <td>8.739949</td>\n",
       "      <td>2</td>\n",
       "    </tr>\n",
       "    <tr>\n",
       "      <th>997</th>\n",
       "      <td>3.123122</td>\n",
       "      <td>5.222823</td>\n",
       "      <td>-9.056304</td>\n",
       "      <td>9.759858</td>\n",
       "      <td>2</td>\n",
       "    </tr>\n",
       "    <tr>\n",
       "      <th>998</th>\n",
       "      <td>1.133059</td>\n",
       "      <td>5.116752</td>\n",
       "      <td>-8.712263</td>\n",
       "      <td>10.870868</td>\n",
       "      <td>2</td>\n",
       "    </tr>\n",
       "    <tr>\n",
       "      <th>999</th>\n",
       "      <td>1.165802</td>\n",
       "      <td>4.259122</td>\n",
       "      <td>-10.852809</td>\n",
       "      <td>7.605091</td>\n",
       "      <td>2</td>\n",
       "    </tr>\n",
       "  </tbody>\n",
       "</table>\n",
       "<p>1000 rows × 5 columns</p>\n",
       "</div>"
      ],
      "text/plain": [
       "           F0        F1         F2         F3  LABEL\n",
       "0   -2.182270  8.795186   5.469284  -0.237966      0\n",
       "1    3.698693  3.215945 -10.741661  10.535512      2\n",
       "2   -7.254824 -7.197825  -7.556684   7.881214      1\n",
       "3   -3.186120  9.625962   5.670878   2.904450      0\n",
       "4    2.279499  3.920786  -9.580430   9.072586      2\n",
       "..        ...       ...        ...        ...    ...\n",
       "995 -6.423739 -4.715107  -9.481846   8.251363      1\n",
       "996  1.512494  4.195893 -12.076637   8.739949      2\n",
       "997  3.123122  5.222823  -9.056304   9.759858      2\n",
       "998  1.133059  5.116752  -8.712263  10.870868      2\n",
       "999  1.165802  4.259122 -10.852809   7.605091      2\n",
       "\n",
       "[1000 rows x 5 columns]"
      ]
     },
     "execution_count": 6,
     "metadata": {},
     "output_type": "execute_result"
    }
   ],
   "source": [
    "data_1 = pd.read_csv('data/dataset1.csv')\n",
    "data_1"
   ]
  },
  {
   "cell_type": "code",
   "execution_count": 7,
   "id": "675735f6",
   "metadata": {},
   "outputs": [
    {
     "data": {
      "text/html": [
       "<div>\n",
       "<style scoped>\n",
       "    .dataframe tbody tr th:only-of-type {\n",
       "        vertical-align: middle;\n",
       "    }\n",
       "\n",
       "    .dataframe tbody tr th {\n",
       "        vertical-align: top;\n",
       "    }\n",
       "\n",
       "    .dataframe thead th {\n",
       "        text-align: right;\n",
       "    }\n",
       "</style>\n",
       "<table border=\"1\" class=\"dataframe\">\n",
       "  <thead>\n",
       "    <tr style=\"text-align: right;\">\n",
       "      <th></th>\n",
       "      <th>F0</th>\n",
       "      <th>F1</th>\n",
       "      <th>F2</th>\n",
       "      <th>F3</th>\n",
       "      <th>LABEL</th>\n",
       "    </tr>\n",
       "  </thead>\n",
       "  <tbody>\n",
       "    <tr>\n",
       "      <th>0</th>\n",
       "      <td>-2.182270</td>\n",
       "      <td>8.795186</td>\n",
       "      <td>5.469284</td>\n",
       "      <td>-0.237966</td>\n",
       "      <td>0</td>\n",
       "    </tr>\n",
       "    <tr>\n",
       "      <th>1</th>\n",
       "      <td>2.860497</td>\n",
       "      <td>3.688698</td>\n",
       "      <td>-10.164985</td>\n",
       "      <td>9.966854</td>\n",
       "      <td>2</td>\n",
       "    </tr>\n",
       "    <tr>\n",
       "      <th>2</th>\n",
       "      <td>-7.817618</td>\n",
       "      <td>-7.674397</td>\n",
       "      <td>-5.634218</td>\n",
       "      <td>8.717751</td>\n",
       "      <td>1</td>\n",
       "    </tr>\n",
       "    <tr>\n",
       "      <th>3</th>\n",
       "      <td>-3.186120</td>\n",
       "      <td>9.625962</td>\n",
       "      <td>5.670878</td>\n",
       "      <td>2.904450</td>\n",
       "      <td>0</td>\n",
       "    </tr>\n",
       "    <tr>\n",
       "      <th>4</th>\n",
       "      <td>2.150900</td>\n",
       "      <td>4.041119</td>\n",
       "      <td>-9.584370</td>\n",
       "      <td>9.235392</td>\n",
       "      <td>2</td>\n",
       "    </tr>\n",
       "    <tr>\n",
       "      <th>...</th>\n",
       "      <td>...</td>\n",
       "      <td>...</td>\n",
       "      <td>...</td>\n",
       "      <td>...</td>\n",
       "      <td>...</td>\n",
       "    </tr>\n",
       "    <tr>\n",
       "      <th>995</th>\n",
       "      <td>-5.739908</td>\n",
       "      <td>-1.467604</td>\n",
       "      <td>-10.447123</td>\n",
       "      <td>9.643123</td>\n",
       "      <td>1</td>\n",
       "    </tr>\n",
       "    <tr>\n",
       "      <th>996</th>\n",
       "      <td>1.767397</td>\n",
       "      <td>4.178672</td>\n",
       "      <td>-10.832474</td>\n",
       "      <td>9.069073</td>\n",
       "      <td>2</td>\n",
       "    </tr>\n",
       "    <tr>\n",
       "      <th>997</th>\n",
       "      <td>2.572711</td>\n",
       "      <td>4.692137</td>\n",
       "      <td>-9.322307</td>\n",
       "      <td>9.579028</td>\n",
       "      <td>2</td>\n",
       "    </tr>\n",
       "    <tr>\n",
       "      <th>998</th>\n",
       "      <td>1.577680</td>\n",
       "      <td>4.639102</td>\n",
       "      <td>-9.150287</td>\n",
       "      <td>10.134532</td>\n",
       "      <td>2</td>\n",
       "    </tr>\n",
       "    <tr>\n",
       "      <th>999</th>\n",
       "      <td>1.594051</td>\n",
       "      <td>4.210287</td>\n",
       "      <td>-10.220559</td>\n",
       "      <td>8.501644</td>\n",
       "      <td>2</td>\n",
       "    </tr>\n",
       "  </tbody>\n",
       "</table>\n",
       "<p>1000 rows × 5 columns</p>\n",
       "</div>"
      ],
      "text/plain": [
       "           F0        F1         F2         F3  LABEL\n",
       "0   -2.182270  8.795186   5.469284  -0.237966      0\n",
       "1    2.860497  3.688698 -10.164985   9.966854      2\n",
       "2   -7.817618 -7.674397  -5.634218   8.717751      1\n",
       "3   -3.186120  9.625962   5.670878   2.904450      0\n",
       "4    2.150900  4.041119  -9.584370   9.235392      2\n",
       "..        ...       ...        ...        ...    ...\n",
       "995 -5.739908 -1.467604 -10.447123   9.643123      1\n",
       "996  1.767397  4.178672 -10.832474   9.069073      2\n",
       "997  2.572711  4.692137  -9.322307   9.579028      2\n",
       "998  1.577680  4.639102  -9.150287  10.134532      2\n",
       "999  1.594051  4.210287 -10.220559   8.501644      2\n",
       "\n",
       "[1000 rows x 5 columns]"
      ]
     },
     "execution_count": 7,
     "metadata": {},
     "output_type": "execute_result"
    }
   ],
   "source": [
    "data_2 = pd.read_csv('data/dataset2.csv')\n",
    "data_2"
   ]
  },
  {
   "cell_type": "code",
   "execution_count": 8,
   "id": "d003086e",
   "metadata": {},
   "outputs": [
    {
     "data": {
      "text/html": [
       "<div>\n",
       "<style scoped>\n",
       "    .dataframe tbody tr th:only-of-type {\n",
       "        vertical-align: middle;\n",
       "    }\n",
       "\n",
       "    .dataframe tbody tr th {\n",
       "        vertical-align: top;\n",
       "    }\n",
       "\n",
       "    .dataframe thead th {\n",
       "        text-align: right;\n",
       "    }\n",
       "</style>\n",
       "<table border=\"1\" class=\"dataframe\">\n",
       "  <thead>\n",
       "    <tr style=\"text-align: right;\">\n",
       "      <th></th>\n",
       "      <th>F0</th>\n",
       "      <th>F1</th>\n",
       "      <th>F2</th>\n",
       "      <th>F3</th>\n",
       "      <th>LABEL</th>\n",
       "    </tr>\n",
       "  </thead>\n",
       "  <tbody>\n",
       "    <tr>\n",
       "      <th>0</th>\n",
       "      <td>-1.499212</td>\n",
       "      <td>5.202552</td>\n",
       "      <td>-1.499212</td>\n",
       "      <td>5.202552</td>\n",
       "      <td>0</td>\n",
       "    </tr>\n",
       "    <tr>\n",
       "      <th>1</th>\n",
       "      <td>-10.027096</td>\n",
       "      <td>16.292373</td>\n",
       "      <td>-10.027096</td>\n",
       "      <td>16.292373</td>\n",
       "      <td>2</td>\n",
       "    </tr>\n",
       "    <tr>\n",
       "      <th>2</th>\n",
       "      <td>-8.609967</td>\n",
       "      <td>9.453919</td>\n",
       "      <td>-8.609967</td>\n",
       "      <td>9.453919</td>\n",
       "      <td>1</td>\n",
       "    </tr>\n",
       "    <tr>\n",
       "      <th>3</th>\n",
       "      <td>-3.611808</td>\n",
       "      <td>9.100601</td>\n",
       "      <td>-3.611808</td>\n",
       "      <td>9.100601</td>\n",
       "      <td>0</td>\n",
       "    </tr>\n",
       "    <tr>\n",
       "      <th>4</th>\n",
       "      <td>-9.950580</td>\n",
       "      <td>16.051347</td>\n",
       "      <td>-9.950580</td>\n",
       "      <td>16.051347</td>\n",
       "      <td>2</td>\n",
       "    </tr>\n",
       "    <tr>\n",
       "      <th>...</th>\n",
       "      <td>...</td>\n",
       "      <td>...</td>\n",
       "      <td>...</td>\n",
       "      <td>...</td>\n",
       "      <td>...</td>\n",
       "    </tr>\n",
       "    <tr>\n",
       "      <th>995</th>\n",
       "      <td>-13.190091</td>\n",
       "      <td>17.275747</td>\n",
       "      <td>-13.190091</td>\n",
       "      <td>17.275747</td>\n",
       "      <td>1</td>\n",
       "    </tr>\n",
       "    <tr>\n",
       "      <th>996</th>\n",
       "      <td>-10.931399</td>\n",
       "      <td>17.065624</td>\n",
       "      <td>-10.931399</td>\n",
       "      <td>17.065624</td>\n",
       "      <td>2</td>\n",
       "    </tr>\n",
       "    <tr>\n",
       "      <th>997</th>\n",
       "      <td>-9.941240</td>\n",
       "      <td>16.463917</td>\n",
       "      <td>-9.941240</td>\n",
       "      <td>16.463917</td>\n",
       "      <td>2</td>\n",
       "    </tr>\n",
       "    <tr>\n",
       "      <th>998</th>\n",
       "      <td>-10.647363</td>\n",
       "      <td>17.416278</td>\n",
       "      <td>-10.647363</td>\n",
       "      <td>17.416278</td>\n",
       "      <td>2</td>\n",
       "    </tr>\n",
       "    <tr>\n",
       "      <th>999</th>\n",
       "      <td>-10.445516</td>\n",
       "      <td>16.329600</td>\n",
       "      <td>-10.445516</td>\n",
       "      <td>16.329600</td>\n",
       "      <td>2</td>\n",
       "    </tr>\n",
       "  </tbody>\n",
       "</table>\n",
       "<p>1000 rows × 5 columns</p>\n",
       "</div>"
      ],
      "text/plain": [
       "            F0         F1         F2         F3  LABEL\n",
       "0    -1.499212   5.202552  -1.499212   5.202552      0\n",
       "1   -10.027096  16.292373 -10.027096  16.292373      2\n",
       "2    -8.609967   9.453919  -8.609967   9.453919      1\n",
       "3    -3.611808   9.100601  -3.611808   9.100601      0\n",
       "4    -9.950580  16.051347  -9.950580  16.051347      2\n",
       "..         ...        ...        ...        ...    ...\n",
       "995 -13.190091  17.275747 -13.190091  17.275747      1\n",
       "996 -10.931399  17.065624 -10.931399  17.065624      2\n",
       "997  -9.941240  16.463917  -9.941240  16.463917      2\n",
       "998 -10.647363  17.416278 -10.647363  17.416278      2\n",
       "999 -10.445516  16.329600 -10.445516  16.329600      2\n",
       "\n",
       "[1000 rows x 5 columns]"
      ]
     },
     "execution_count": 8,
     "metadata": {},
     "output_type": "execute_result"
    }
   ],
   "source": [
    "data_3 = pd.read_csv('data/dataset3.csv')\n",
    "data_3"
   ]
  },
  {
   "cell_type": "code",
   "execution_count": 20,
   "id": "cbc86ef9",
   "metadata": {},
   "outputs": [
    {
     "data": {
      "image/png": "[encoded data removed]",
      "text/plain": [
       "<Figure size 2000x700 with 3 Axes>"
      ]
     },
     "metadata": {},
     "output_type": "display_data"
    }
   ],
   "source": [
    "# Посмотрим на форму кластеров трех датасетов\n",
    "fig, axes = plt.subplots(1, 3, figsize=(20, 7))\n",
    "\n",
    "axes[0].scatter(data_1.iloc[:, 0], data_1.iloc[:, 1], s=10)\n",
    "axes[0].set_title(\"Датасет 1\")\n",
    "\n",
    "axes[1].scatter(data_2.iloc[:, 0], data_2.iloc[:, 1], s=10)\n",
    "axes[1].set_title(\"Датасет 2\")\n",
    "\n",
    "axes[2].scatter(data_3.iloc[:, 0], data_3.iloc[:, 1], s=10)\n",
    "axes[2].set_title(\"Датасет 3\")\n",
    "\n",
    "plt.tight_layout()\n",
    "plt.show()"
   ]
  },
  {
   "cell_type": "code",
   "execution_count": 25,
   "id": "1731a0e7",
   "metadata": {},
   "outputs": [
    {
     "data": {
      "text/html": [
       "<div>\n",
       "<style scoped>\n",
       "    .dataframe tbody tr th:only-of-type {\n",
       "        vertical-align: middle;\n",
       "    }\n",
       "\n",
       "    .dataframe tbody tr th {\n",
       "        vertical-align: top;\n",
       "    }\n",
       "\n",
       "    .dataframe thead th {\n",
       "        text-align: right;\n",
       "    }\n",
       "</style>\n",
       "<table border=\"1\" class=\"dataframe\">\n",
       "  <thead>\n",
       "    <tr style=\"text-align: right;\">\n",
       "      <th></th>\n",
       "      <th>F0</th>\n",
       "      <th>F1</th>\n",
       "      <th>F2</th>\n",
       "      <th>F3</th>\n",
       "      <th>LABEL</th>\n",
       "    </tr>\n",
       "  </thead>\n",
       "  <tbody>\n",
       "    <tr>\n",
       "      <th>count</th>\n",
       "      <td>334.000000</td>\n",
       "      <td>334.000000</td>\n",
       "      <td>334.000000</td>\n",
       "      <td>334.000000</td>\n",
       "      <td>334.0</td>\n",
       "    </tr>\n",
       "    <tr>\n",
       "      <th>mean</th>\n",
       "      <td>-2.479722</td>\n",
       "      <td>9.036261</td>\n",
       "      <td>4.681010</td>\n",
       "      <td>2.024284</td>\n",
       "      <td>0.0</td>\n",
       "    </tr>\n",
       "    <tr>\n",
       "      <th>std</th>\n",
       "      <td>0.940247</td>\n",
       "      <td>1.035264</td>\n",
       "      <td>0.971434</td>\n",
       "      <td>0.988385</td>\n",
       "      <td>0.0</td>\n",
       "    </tr>\n",
       "    <tr>\n",
       "      <th>min</th>\n",
       "      <td>-5.160167</td>\n",
       "      <td>6.118031</td>\n",
       "      <td>1.398611</td>\n",
       "      <td>-0.328751</td>\n",
       "      <td>0.0</td>\n",
       "    </tr>\n",
       "    <tr>\n",
       "      <th>25%</th>\n",
       "      <td>-3.143980</td>\n",
       "      <td>8.333508</td>\n",
       "      <td>4.059425</td>\n",
       "      <td>1.312662</td>\n",
       "      <td>0.0</td>\n",
       "    </tr>\n",
       "    <tr>\n",
       "      <th>50%</th>\n",
       "      <td>-2.460507</td>\n",
       "      <td>9.045361</td>\n",
       "      <td>4.680786</td>\n",
       "      <td>2.020911</td>\n",
       "      <td>0.0</td>\n",
       "    </tr>\n",
       "    <tr>\n",
       "      <th>75%</th>\n",
       "      <td>-1.883917</td>\n",
       "      <td>9.673732</td>\n",
       "      <td>5.277267</td>\n",
       "      <td>2.718676</td>\n",
       "      <td>0.0</td>\n",
       "    </tr>\n",
       "    <tr>\n",
       "      <th>max</th>\n",
       "      <td>0.017735</td>\n",
       "      <td>12.867018</td>\n",
       "      <td>7.718760</td>\n",
       "      <td>4.693339</td>\n",
       "      <td>0.0</td>\n",
       "    </tr>\n",
       "  </tbody>\n",
       "</table>\n",
       "</div>"
      ],
      "text/plain": [
       "               F0          F1          F2          F3  LABEL\n",
       "count  334.000000  334.000000  334.000000  334.000000  334.0\n",
       "mean    -2.479722    9.036261    4.681010    2.024284    0.0\n",
       "std      0.940247    1.035264    0.971434    0.988385    0.0\n",
       "min     -5.160167    6.118031    1.398611   -0.328751    0.0\n",
       "25%     -3.143980    8.333508    4.059425    1.312662    0.0\n",
       "50%     -2.460507    9.045361    4.680786    2.020911    0.0\n",
       "75%     -1.883917    9.673732    5.277267    2.718676    0.0\n",
       "max      0.017735   12.867018    7.718760    4.693339    0.0"
      ]
     },
     "execution_count": 25,
     "metadata": {},
     "output_type": "execute_result"
    }
   ],
   "source": [
    "data_2[data_2['LABEL'] == 0].describe()\n"
   ]
  },
  {
   "cell_type": "code",
   "execution_count": 26,
   "id": "9fd81926",
   "metadata": {},
   "outputs": [
    {
     "data": {
      "text/html": [
       "<div>\n",
       "<style scoped>\n",
       "    .dataframe tbody tr th:only-of-type {\n",
       "        vertical-align: middle;\n",
       "    }\n",
       "\n",
       "    .dataframe tbody tr th {\n",
       "        vertical-align: top;\n",
       "    }\n",
       "\n",
       "    .dataframe thead th {\n",
       "        text-align: right;\n",
       "    }\n",
       "</style>\n",
       "<table border=\"1\" class=\"dataframe\">\n",
       "  <thead>\n",
       "    <tr style=\"text-align: right;\">\n",
       "      <th></th>\n",
       "      <th>F0</th>\n",
       "      <th>F1</th>\n",
       "      <th>F2</th>\n",
       "      <th>F3</th>\n",
       "      <th>LABEL</th>\n",
       "    </tr>\n",
       "  </thead>\n",
       "  <tbody>\n",
       "    <tr>\n",
       "      <th>count</th>\n",
       "      <td>333.000000</td>\n",
       "      <td>333.000000</td>\n",
       "      <td>333.000000</td>\n",
       "      <td>333.000000</td>\n",
       "      <td>333.0</td>\n",
       "    </tr>\n",
       "    <tr>\n",
       "      <th>mean</th>\n",
       "      <td>-6.889797</td>\n",
       "      <td>-6.541549</td>\n",
       "      <td>-8.874557</td>\n",
       "      <td>7.302611</td>\n",
       "      <td>1.0</td>\n",
       "    </tr>\n",
       "    <tr>\n",
       "      <th>std</th>\n",
       "      <td>2.344854</td>\n",
       "      <td>2.362250</td>\n",
       "      <td>2.587299</td>\n",
       "      <td>2.566851</td>\n",
       "      <td>0.0</td>\n",
       "    </tr>\n",
       "    <tr>\n",
       "      <th>min</th>\n",
       "      <td>-14.428408</td>\n",
       "      <td>-12.428361</td>\n",
       "      <td>-15.596408</td>\n",
       "      <td>-0.027449</td>\n",
       "      <td>1.0</td>\n",
       "    </tr>\n",
       "    <tr>\n",
       "      <th>25%</th>\n",
       "      <td>-8.396378</td>\n",
       "      <td>-8.211862</td>\n",
       "      <td>-10.609345</td>\n",
       "      <td>5.599203</td>\n",
       "      <td>1.0</td>\n",
       "    </tr>\n",
       "    <tr>\n",
       "      <th>50%</th>\n",
       "      <td>-6.840581</td>\n",
       "      <td>-6.521638</td>\n",
       "      <td>-8.906589</td>\n",
       "      <td>7.209995</td>\n",
       "      <td>1.0</td>\n",
       "    </tr>\n",
       "    <tr>\n",
       "      <th>75%</th>\n",
       "      <td>-5.239875</td>\n",
       "      <td>-4.814992</td>\n",
       "      <td>-7.097359</td>\n",
       "      <td>8.944224</td>\n",
       "      <td>1.0</td>\n",
       "    </tr>\n",
       "    <tr>\n",
       "      <th>max</th>\n",
       "      <td>-0.812836</td>\n",
       "      <td>0.964262</td>\n",
       "      <td>-1.465592</td>\n",
       "      <td>15.306292</td>\n",
       "      <td>1.0</td>\n",
       "    </tr>\n",
       "  </tbody>\n",
       "</table>\n",
       "</div>"
      ],
      "text/plain": [
       "               F0          F1          F2          F3  LABEL\n",
       "count  333.000000  333.000000  333.000000  333.000000  333.0\n",
       "mean    -6.889797   -6.541549   -8.874557    7.302611    1.0\n",
       "std      2.344854    2.362250    2.587299    2.566851    0.0\n",
       "min    -14.428408  -12.428361  -15.596408   -0.027449    1.0\n",
       "25%     -8.396378   -8.211862  -10.609345    5.599203    1.0\n",
       "50%     -6.840581   -6.521638   -8.906589    7.209995    1.0\n",
       "75%     -5.239875   -4.814992   -7.097359    8.944224    1.0\n",
       "max     -0.812836    0.964262   -1.465592   15.306292    1.0"
      ]
     },
     "execution_count": 26,
     "metadata": {},
     "output_type": "execute_result"
    }
   ],
   "source": [
    "data_2[data_2['LABEL'] == 1].describe()"
   ]
  },
  {
   "cell_type": "code",
   "execution_count": 27,
   "id": "a084f50b",
   "metadata": {},
   "outputs": [
    {
     "data": {
      "text/html": [
       "<div>\n",
       "<style scoped>\n",
       "    .dataframe tbody tr th:only-of-type {\n",
       "        vertical-align: middle;\n",
       "    }\n",
       "\n",
       "    .dataframe tbody tr th {\n",
       "        vertical-align: top;\n",
       "    }\n",
       "\n",
       "    .dataframe thead th {\n",
       "        text-align: right;\n",
       "    }\n",
       "</style>\n",
       "<table border=\"1\" class=\"dataframe\">\n",
       "  <thead>\n",
       "    <tr style=\"text-align: right;\">\n",
       "      <th></th>\n",
       "      <th>F0</th>\n",
       "      <th>F1</th>\n",
       "      <th>F2</th>\n",
       "      <th>F3</th>\n",
       "      <th>LABEL</th>\n",
       "    </tr>\n",
       "  </thead>\n",
       "  <tbody>\n",
       "    <tr>\n",
       "      <th>count</th>\n",
       "      <td>333.000000</td>\n",
       "      <td>333.000000</td>\n",
       "      <td>333.000000</td>\n",
       "      <td>333.000000</td>\n",
       "      <td>333.0</td>\n",
       "    </tr>\n",
       "    <tr>\n",
       "      <th>mean</th>\n",
       "      <td>2.051791</td>\n",
       "      <td>4.121401</td>\n",
       "      <td>-9.621464</td>\n",
       "      <td>9.418245</td>\n",
       "      <td>2.0</td>\n",
       "    </tr>\n",
       "    <tr>\n",
       "      <th>std</th>\n",
       "      <td>0.508617</td>\n",
       "      <td>0.522141</td>\n",
       "      <td>0.508739</td>\n",
       "      <td>0.502138</td>\n",
       "      <td>0.0</td>\n",
       "    </tr>\n",
       "    <tr>\n",
       "      <th>min</th>\n",
       "      <td>0.568806</td>\n",
       "      <td>2.745374</td>\n",
       "      <td>-11.053034</td>\n",
       "      <td>7.902629</td>\n",
       "      <td>2.0</td>\n",
       "    </tr>\n",
       "    <tr>\n",
       "      <th>25%</th>\n",
       "      <td>1.718187</td>\n",
       "      <td>3.781600</td>\n",
       "      <td>-9.973308</td>\n",
       "      <td>9.080418</td>\n",
       "      <td>2.0</td>\n",
       "    </tr>\n",
       "    <tr>\n",
       "      <th>50%</th>\n",
       "      <td>2.093825</td>\n",
       "      <td>4.092954</td>\n",
       "      <td>-9.619192</td>\n",
       "      <td>9.423796</td>\n",
       "      <td>2.0</td>\n",
       "    </tr>\n",
       "    <tr>\n",
       "      <th>75%</th>\n",
       "      <td>2.379605</td>\n",
       "      <td>4.452820</td>\n",
       "      <td>-9.311736</td>\n",
       "      <td>9.754358</td>\n",
       "      <td>2.0</td>\n",
       "    </tr>\n",
       "    <tr>\n",
       "      <th>max</th>\n",
       "      <td>3.643847</td>\n",
       "      <td>5.595653</td>\n",
       "      <td>-8.012282</td>\n",
       "      <td>11.361316</td>\n",
       "      <td>2.0</td>\n",
       "    </tr>\n",
       "  </tbody>\n",
       "</table>\n",
       "</div>"
      ],
      "text/plain": [
       "               F0          F1          F2          F3  LABEL\n",
       "count  333.000000  333.000000  333.000000  333.000000  333.0\n",
       "mean     2.051791    4.121401   -9.621464    9.418245    2.0\n",
       "std      0.508617    0.522141    0.508739    0.502138    0.0\n",
       "min      0.568806    2.745374  -11.053034    7.902629    2.0\n",
       "25%      1.718187    3.781600   -9.973308    9.080418    2.0\n",
       "50%      2.093825    4.092954   -9.619192    9.423796    2.0\n",
       "75%      2.379605    4.452820   -9.311736    9.754358    2.0\n",
       "max      3.643847    5.595653   -8.012282   11.361316    2.0"
      ]
     },
     "execution_count": 27,
     "metadata": {},
     "output_type": "execute_result"
    }
   ],
   "source": [
    "data_2[data_2['LABEL'] == 2].describe()"
   ]
  },
  {
   "cell_type": "code",
   "execution_count": 36,
   "id": "139eff2a",
   "metadata": {},
   "outputs": [
    {
     "data": {
      "image/png": "[encoded data removed]",
      "text/plain": [
       "<Figure size 2000x700 with 3 Axes>"
      ]
     },
     "metadata": {},
     "output_type": "display_data"
    }
   ],
   "source": [
    "# Посмотрим на форму кластеров трех датасетов\n",
    "fig, axes = plt.subplots(1, 3, figsize=(20, 7))\n",
    "\n",
    "sns.histplot(data_2[data_2['LABEL'] == 0].iloc[:, 2], ax=axes[0])\n",
    "axes[0].set_title(\"Датасет 2. Кластер 0\")\n",
    "\n",
    "sns.histplot(data_2[data_2['LABEL'] == 1].iloc[:, 2], ax=axes[1])\n",
    "axes[1].set_title(\"Датасет 2. Кластер 1\")\n",
    "\n",
    "sns.histplot(data_2[data_2['LABEL'] == 2].iloc[:, 2], ax=axes[2])\n",
    "axes[2].set_title(\"Датасет 2. Кластер 2\")\n",
    "\n",
    "plt.tight_layout()\n",
    "plt.show()"
   ]
  },
  {
   "cell_type": "code",
   "execution_count": 41,
   "id": "8814c287",
   "metadata": {},
   "outputs": [
    {
     "name": "stderr",
     "output_type": "stream",
     "text": [
      "/Users/nadezdaoskina/.pyenv/versions/3.10.9/lib/python3.10/site-packages/sklearn/cluster/_kmeans.py:1412: FutureWarning: The default value of `n_init` will change from 10 to 'auto' in 1.4. Set the value of `n_init` explicitly to suppress the warning\n",
      "  super()._check_params_vs_input(X, default_n_init=10)\n"
     ]
    },
    {
     "data": {
      "text/plain": [
       "7.315"
      ]
     },
     "execution_count": 41,
     "metadata": {},
     "output_type": "execute_result"
    }
   ],
   "source": [
    "# Кластеризация\n",
    "kmeans_model = cluster.KMeans(n_clusters=3, random_state=42)\n",
    "kmeans_model.fit(data_1)\n",
    "\n",
    "# Выделяем центры класторов\n",
    "centers_data_1 = kmeans_model.cluster_centers_\n",
    "\n",
    "# Значение 4-й координаты центра для последнего кластера \n",
    "last_cluster_center = centers_data_1[-1][3]\n",
    "answer = round(last_cluster_center, 3)\n",
    "answer"
   ]
  },
  {
   "cell_type": "code",
   "execution_count": 42,
   "id": "dd3c081f",
   "metadata": {},
   "outputs": [
    {
     "data": {
      "text/plain": [
       "array([[ 2.08128181e+00,  4.08135021e+00, -9.65461760e+00,\n",
       "         9.43829232e+00,  2.00000000e+00],\n",
       "       [-2.47972233e+00,  9.03626136e+00,  4.68100968e+00,\n",
       "         2.02428364e+00,  3.33066907e-16],\n",
       "       [-6.88369510e+00, -6.74468537e+00, -8.85281957e+00,\n",
       "         7.31515829e+00,  1.00000000e+00]])"
      ]
     },
     "execution_count": 42,
     "metadata": {},
     "output_type": "execute_result"
    }
   ],
   "source": [
    "centers_data_1"
   ]
  },
  {
   "cell_type": "code",
   "execution_count": 47,
   "id": "efed194e",
   "metadata": {},
   "outputs": [
    {
     "name": "stderr",
     "output_type": "stream",
     "text": [
      "/Users/nadezdaoskina/.pyenv/versions/3.10.9/lib/python3.10/site-packages/sklearn/cluster/_kmeans.py:1412: FutureWarning: The default value of `n_init` will change from 10 to 'auto' in 1.4. Set the value of `n_init` explicitly to suppress the warning\n",
      "  super()._check_params_vs_input(X, default_n_init=10)\n"
     ]
    }
   ],
   "source": [
    "dataset2_labeled = data_2.copy()\n",
    "\n",
    "# Кластеризация KMeans\n",
    "kmeans_model_data_2 = cluster.KMeans(n_clusters=2, random_state=42)\n",
    "kmeans_labels = kmeans_model_data_2.fit_predict(data_2)\n",
    "\n",
    "# Иерархическая кластеризация\n",
    "linkage_matrix = linkage(data_2, method='complete')\n",
    "hierarchical_labels = fcluster(linkage_matrix, t=2, criterion='maxclust')\n",
    "\n",
    "# Добавим в датафрейм\n",
    "dataset2_labeled['kmeans_2'] = kmeans_labels\n",
    "dataset2_labeled['hierarchical_2'] = hierarchical_labels"
   ]
  },
  {
   "cell_type": "code",
   "execution_count": 48,
   "id": "f9ce3226",
   "metadata": {},
   "outputs": [
    {
     "data": {
      "text/html": [
       "<div>\n",
       "<style scoped>\n",
       "    .dataframe tbody tr th:only-of-type {\n",
       "        vertical-align: middle;\n",
       "    }\n",
       "\n",
       "    .dataframe tbody tr th {\n",
       "        vertical-align: top;\n",
       "    }\n",
       "\n",
       "    .dataframe thead th {\n",
       "        text-align: right;\n",
       "    }\n",
       "</style>\n",
       "<table border=\"1\" class=\"dataframe\">\n",
       "  <thead>\n",
       "    <tr style=\"text-align: right;\">\n",
       "      <th></th>\n",
       "      <th>F0</th>\n",
       "      <th>F1</th>\n",
       "      <th>F2</th>\n",
       "      <th>F3</th>\n",
       "      <th>LABEL</th>\n",
       "      <th>kmeans_2</th>\n",
       "      <th>hierarchical_2</th>\n",
       "    </tr>\n",
       "  </thead>\n",
       "  <tbody>\n",
       "    <tr>\n",
       "      <th>0</th>\n",
       "      <td>-2.182270</td>\n",
       "      <td>8.795186</td>\n",
       "      <td>5.469284</td>\n",
       "      <td>-0.237966</td>\n",
       "      <td>0</td>\n",
       "      <td>1</td>\n",
       "      <td>2</td>\n",
       "    </tr>\n",
       "    <tr>\n",
       "      <th>1</th>\n",
       "      <td>2.860497</td>\n",
       "      <td>3.688698</td>\n",
       "      <td>-10.164985</td>\n",
       "      <td>9.966854</td>\n",
       "      <td>2</td>\n",
       "      <td>0</td>\n",
       "      <td>2</td>\n",
       "    </tr>\n",
       "    <tr>\n",
       "      <th>2</th>\n",
       "      <td>-7.817618</td>\n",
       "      <td>-7.674397</td>\n",
       "      <td>-5.634218</td>\n",
       "      <td>8.717751</td>\n",
       "      <td>1</td>\n",
       "      <td>0</td>\n",
       "      <td>1</td>\n",
       "    </tr>\n",
       "    <tr>\n",
       "      <th>3</th>\n",
       "      <td>-3.186120</td>\n",
       "      <td>9.625962</td>\n",
       "      <td>5.670878</td>\n",
       "      <td>2.904450</td>\n",
       "      <td>0</td>\n",
       "      <td>1</td>\n",
       "      <td>2</td>\n",
       "    </tr>\n",
       "    <tr>\n",
       "      <th>4</th>\n",
       "      <td>2.150900</td>\n",
       "      <td>4.041119</td>\n",
       "      <td>-9.584370</td>\n",
       "      <td>9.235392</td>\n",
       "      <td>2</td>\n",
       "      <td>0</td>\n",
       "      <td>2</td>\n",
       "    </tr>\n",
       "  </tbody>\n",
       "</table>\n",
       "</div>"
      ],
      "text/plain": [
       "         F0        F1         F2        F3  LABEL  kmeans_2  hierarchical_2\n",
       "0 -2.182270  8.795186   5.469284 -0.237966      0         1               2\n",
       "1  2.860497  3.688698 -10.164985  9.966854      2         0               2\n",
       "2 -7.817618 -7.674397  -5.634218  8.717751      1         0               1\n",
       "3 -3.186120  9.625962   5.670878  2.904450      0         1               2\n",
       "4  2.150900  4.041119  -9.584370  9.235392      2         0               2"
      ]
     },
     "execution_count": 48,
     "metadata": {},
     "output_type": "execute_result"
    }
   ],
   "source": [
    "dataset2_labeled.head()\n"
   ]
  },
  {
   "cell_type": "code",
   "execution_count": null,
   "id": "3eac5879",
   "metadata": {},
   "outputs": [
    {
     "data": {
      "text/plain": [
       "1"
      ]
     },
     "execution_count": 52,
     "metadata": {},
     "output_type": "execute_result"
    }
   ],
   "source": [
    "# Все объекты из cluster_0 определены в один кластер методом кластеризации k-средних\n",
    "cluster_0_kmeans_unique = dataset2_labeled[dataset2_labeled['LABEL'] == 0]['kmeans_2'].nunique()\n",
    "cluster_0_kmeans_unique"
   ]
  },
  {
   "cell_type": "code",
   "execution_count": 54,
   "id": "6e3f1786",
   "metadata": {},
   "outputs": [
    {
     "data": {
      "text/plain": [
       "1    334\n",
       "Name: kmeans_2, dtype: int64"
      ]
     },
     "execution_count": 54,
     "metadata": {},
     "output_type": "execute_result"
    }
   ],
   "source": [
    "dataset2_labeled[dataset2_labeled['LABEL'] == 0]['kmeans_2'].value_counts()"
   ]
  },
  {
   "cell_type": "code",
   "execution_count": null,
   "id": "1e901c79",
   "metadata": {},
   "outputs": [
    {
     "data": {
      "text/plain": [
       "1"
      ]
     },
     "execution_count": 53,
     "metadata": {},
     "output_type": "execute_result"
    }
   ],
   "source": [
    "# Все объекты из cluster_0 определены в один кластер в ходе иерархической кластеризации\n",
    "cluster_0_hierarchical_unique = dataset2_labeled[dataset2_labeled['LABEL'] == 0]['hierarchical_2'].nunique()\n",
    "cluster_0_hierarchical_unique"
   ]
  },
  {
   "cell_type": "code",
   "execution_count": 55,
   "id": "d6cce38b",
   "metadata": {},
   "outputs": [
    {
     "data": {
      "text/plain": [
       "2    334\n",
       "Name: hierarchical_2, dtype: int64"
      ]
     },
     "execution_count": 55,
     "metadata": {},
     "output_type": "execute_result"
    }
   ],
   "source": [
    "dataset2_labeled[dataset2_labeled['LABEL'] == 0]['hierarchical_2'].value_counts()"
   ]
  },
  {
   "cell_type": "code",
   "execution_count": null,
   "id": "8f6503c5",
   "metadata": {},
   "outputs": [
    {
     "data": {
      "text/plain": [
       "1"
      ]
     },
     "execution_count": 56,
     "metadata": {},
     "output_type": "execute_result"
    }
   ],
   "source": [
    "# Все объекты из cluster_2 определены в один кластер в ходе иерархической кластеризации\n",
    "cluster_2_hier_unique = dataset2_labeled[dataset2_labeled['LABEL'] == 2]['hierarchical_2'].nunique()\n",
    "cluster_2_hier_unique"
   ]
  },
  {
   "cell_type": "code",
   "execution_count": 57,
   "id": "b132f06a",
   "metadata": {},
   "outputs": [
    {
     "data": {
      "text/plain": [
       "2    333\n",
       "Name: hierarchical_2, dtype: int64"
      ]
     },
     "execution_count": 57,
     "metadata": {},
     "output_type": "execute_result"
    }
   ],
   "source": [
    "dataset2_labeled[dataset2_labeled['LABEL'] == 2]['hierarchical_2'].value_counts()"
   ]
  },
  {
   "cell_type": "code",
   "execution_count": 63,
   "id": "50985dcd",
   "metadata": {},
   "outputs": [
    {
     "data": {
      "text/plain": [
       "False"
      ]
     },
     "execution_count": 63,
     "metadata": {},
     "output_type": "execute_result"
    }
   ],
   "source": [
    "# Результаты кластеризации методом K-средних и иерархической в целом совпадают\n",
    "agreement_ratio = np.mean(dataset2_labeled['kmeans_2']) == np.mean(dataset2_labeled['hierarchical_2'])\n",
    "agreement_ratio"
   ]
  },
  {
   "cell_type": "code",
   "execution_count": 61,
   "id": "b129d06c",
   "metadata": {},
   "outputs": [
    {
     "data": {
      "text/plain": [
       "0.334"
      ]
     },
     "execution_count": 61,
     "metadata": {},
     "output_type": "execute_result"
    }
   ],
   "source": [
    "np.mean(dataset2_labeled['kmeans_2'])"
   ]
  },
  {
   "cell_type": "code",
   "execution_count": 62,
   "id": "d633d15a",
   "metadata": {},
   "outputs": [
    {
     "data": {
      "text/plain": [
       "1.667"
      ]
     },
     "execution_count": 62,
     "metadata": {},
     "output_type": "execute_result"
    }
   ],
   "source": [
    "np.mean(dataset2_labeled['hierarchical_2'])"
   ]
  },
  {
   "cell_type": "code",
   "execution_count": 65,
   "id": "e53767ce",
   "metadata": {},
   "outputs": [
    {
     "data": {
      "text/plain": [
       "False"
      ]
     },
     "execution_count": 65,
     "metadata": {},
     "output_type": "execute_result"
    }
   ],
   "source": [
    "# Результаты двух алгоритмов отличаются: метод полной связи объединил в один кластер cluster_0 и cluster_1, \n",
    "# а метод k-средних - cluster_1 и cluster_2.\n",
    "kmeans_1_and_2 = dataset2_labeled[dataset2_labeled['LABEL'].isin([1, 2])]['kmeans_2'].nunique() == 1\n",
    "hierarchical_0_and_1 = dataset2_labeled[dataset2_labeled['LABEL'].isin([0, 1])]['hierarchical_2'].nunique() == 1\n",
    "results = (kmeans_1_and_2 and hierarchical_0_and_1)\n",
    "results"
   ]
  },
  {
   "cell_type": "code",
   "execution_count": 67,
   "id": "5b8cf2c7",
   "metadata": {},
   "outputs": [
    {
     "data": {
      "text/plain": [
       "2    334\n",
       "1    333\n",
       "Name: hierarchical_2, dtype: int64"
      ]
     },
     "execution_count": 67,
     "metadata": {},
     "output_type": "execute_result"
    }
   ],
   "source": [
    "dataset2_labeled[(dataset2_labeled['LABEL'] == 0) | (dataset2_labeled['LABEL'] == 1)]['hierarchical_2'].value_counts()"
   ]
  },
  {
   "cell_type": "code",
   "execution_count": 68,
   "id": "2695bed8",
   "metadata": {},
   "outputs": [
    {
     "data": {
      "text/plain": [
       "2    667\n",
       "1    333\n",
       "Name: hierarchical_2, dtype: int64"
      ]
     },
     "execution_count": 68,
     "metadata": {},
     "output_type": "execute_result"
    }
   ],
   "source": [
    "dataset2_labeled['hierarchical_2'].value_counts()"
   ]
  },
  {
   "cell_type": "code",
   "execution_count": 69,
   "id": "2cfc6de2",
   "metadata": {},
   "outputs": [
    {
     "data": {
      "text/html": [
       "<div>\n",
       "<style scoped>\n",
       "    .dataframe tbody tr th:only-of-type {\n",
       "        vertical-align: middle;\n",
       "    }\n",
       "\n",
       "    .dataframe tbody tr th {\n",
       "        vertical-align: top;\n",
       "    }\n",
       "\n",
       "    .dataframe thead th {\n",
       "        text-align: right;\n",
       "    }\n",
       "</style>\n",
       "<table border=\"1\" class=\"dataframe\">\n",
       "  <thead>\n",
       "    <tr style=\"text-align: right;\">\n",
       "      <th></th>\n",
       "      <th>LABEL</th>\n",
       "      <th>hierarchical_2</th>\n",
       "    </tr>\n",
       "  </thead>\n",
       "  <tbody>\n",
       "    <tr>\n",
       "      <th>0</th>\n",
       "      <td>0</td>\n",
       "      <td>2</td>\n",
       "    </tr>\n",
       "    <tr>\n",
       "      <th>1</th>\n",
       "      <td>2</td>\n",
       "      <td>2</td>\n",
       "    </tr>\n",
       "    <tr>\n",
       "      <th>2</th>\n",
       "      <td>1</td>\n",
       "      <td>1</td>\n",
       "    </tr>\n",
       "    <tr>\n",
       "      <th>3</th>\n",
       "      <td>0</td>\n",
       "      <td>2</td>\n",
       "    </tr>\n",
       "    <tr>\n",
       "      <th>4</th>\n",
       "      <td>2</td>\n",
       "      <td>2</td>\n",
       "    </tr>\n",
       "    <tr>\n",
       "      <th>...</th>\n",
       "      <td>...</td>\n",
       "      <td>...</td>\n",
       "    </tr>\n",
       "    <tr>\n",
       "      <th>995</th>\n",
       "      <td>1</td>\n",
       "      <td>1</td>\n",
       "    </tr>\n",
       "    <tr>\n",
       "      <th>996</th>\n",
       "      <td>2</td>\n",
       "      <td>2</td>\n",
       "    </tr>\n",
       "    <tr>\n",
       "      <th>997</th>\n",
       "      <td>2</td>\n",
       "      <td>2</td>\n",
       "    </tr>\n",
       "    <tr>\n",
       "      <th>998</th>\n",
       "      <td>2</td>\n",
       "      <td>2</td>\n",
       "    </tr>\n",
       "    <tr>\n",
       "      <th>999</th>\n",
       "      <td>2</td>\n",
       "      <td>2</td>\n",
       "    </tr>\n",
       "  </tbody>\n",
       "</table>\n",
       "<p>1000 rows × 2 columns</p>\n",
       "</div>"
      ],
      "text/plain": [
       "     LABEL  hierarchical_2\n",
       "0        0               2\n",
       "1        2               2\n",
       "2        1               1\n",
       "3        0               2\n",
       "4        2               2\n",
       "..     ...             ...\n",
       "995      1               1\n",
       "996      2               2\n",
       "997      2               2\n",
       "998      2               2\n",
       "999      2               2\n",
       "\n",
       "[1000 rows x 2 columns]"
      ]
     },
     "execution_count": 69,
     "metadata": {},
     "output_type": "execute_result"
    }
   ],
   "source": [
    "dataset2_labeled[[\"LABEL\", \"hierarchical_2\"]]"
   ]
  },
  {
   "cell_type": "code",
   "execution_count": 70,
   "id": "a27a670b",
   "metadata": {},
   "outputs": [
    {
     "data": {
      "text/html": [
       "<div>\n",
       "<style scoped>\n",
       "    .dataframe tbody tr th:only-of-type {\n",
       "        vertical-align: middle;\n",
       "    }\n",
       "\n",
       "    .dataframe tbody tr th {\n",
       "        vertical-align: top;\n",
       "    }\n",
       "\n",
       "    .dataframe thead th {\n",
       "        text-align: right;\n",
       "    }\n",
       "</style>\n",
       "<table border=\"1\" class=\"dataframe\">\n",
       "  <thead>\n",
       "    <tr style=\"text-align: right;\">\n",
       "      <th></th>\n",
       "      <th>LABEL</th>\n",
       "      <th>kmeans_2</th>\n",
       "    </tr>\n",
       "  </thead>\n",
       "  <tbody>\n",
       "    <tr>\n",
       "      <th>0</th>\n",
       "      <td>0</td>\n",
       "      <td>1</td>\n",
       "    </tr>\n",
       "    <tr>\n",
       "      <th>1</th>\n",
       "      <td>2</td>\n",
       "      <td>0</td>\n",
       "    </tr>\n",
       "    <tr>\n",
       "      <th>2</th>\n",
       "      <td>1</td>\n",
       "      <td>0</td>\n",
       "    </tr>\n",
       "    <tr>\n",
       "      <th>3</th>\n",
       "      <td>0</td>\n",
       "      <td>1</td>\n",
       "    </tr>\n",
       "    <tr>\n",
       "      <th>4</th>\n",
       "      <td>2</td>\n",
       "      <td>0</td>\n",
       "    </tr>\n",
       "    <tr>\n",
       "      <th>...</th>\n",
       "      <td>...</td>\n",
       "      <td>...</td>\n",
       "    </tr>\n",
       "    <tr>\n",
       "      <th>995</th>\n",
       "      <td>1</td>\n",
       "      <td>0</td>\n",
       "    </tr>\n",
       "    <tr>\n",
       "      <th>996</th>\n",
       "      <td>2</td>\n",
       "      <td>0</td>\n",
       "    </tr>\n",
       "    <tr>\n",
       "      <th>997</th>\n",
       "      <td>2</td>\n",
       "      <td>0</td>\n",
       "    </tr>\n",
       "    <tr>\n",
       "      <th>998</th>\n",
       "      <td>2</td>\n",
       "      <td>0</td>\n",
       "    </tr>\n",
       "    <tr>\n",
       "      <th>999</th>\n",
       "      <td>2</td>\n",
       "      <td>0</td>\n",
       "    </tr>\n",
       "  </tbody>\n",
       "</table>\n",
       "<p>1000 rows × 2 columns</p>\n",
       "</div>"
      ],
      "text/plain": [
       "     LABEL  kmeans_2\n",
       "0        0         1\n",
       "1        2         0\n",
       "2        1         0\n",
       "3        0         1\n",
       "4        2         0\n",
       "..     ...       ...\n",
       "995      1         0\n",
       "996      2         0\n",
       "997      2         0\n",
       "998      2         0\n",
       "999      2         0\n",
       "\n",
       "[1000 rows x 2 columns]"
      ]
     },
     "execution_count": 70,
     "metadata": {},
     "output_type": "execute_result"
    }
   ],
   "source": [
    "dataset2_labeled[[\"LABEL\", \"kmeans_2\"]]"
   ]
  },
  {
   "cell_type": "code",
   "execution_count": 86,
   "id": "7ac828a1",
   "metadata": {},
   "outputs": [],
   "source": [
    "dbscan = cluster.DBSCAN(metric='euclidean', eps=0.3, min_samples=10)\n",
    "dbscan_labels = dbscan.fit_predict(data_3)\n",
    "dataset2_labeled['DBSCAN_2'] = dbscan_labels"
   ]
  },
  {
   "cell_type": "code",
   "execution_count": 87,
   "id": "20c656c0",
   "metadata": {},
   "outputs": [
    {
     "data": {
      "text/plain": [
       "6"
      ]
     },
     "execution_count": 87,
     "metadata": {},
     "output_type": "execute_result"
    }
   ],
   "source": [
    "n_clusters_dbscan = len(set(dbscan_labels)) - (1 if -1 in dbscan_labels else 0)\n",
    "n_clusters_dbscan"
   ]
  },
  {
   "cell_type": "code",
   "execution_count": 88,
   "id": "e5926e21",
   "metadata": {},
   "outputs": [
    {
     "data": {
      "text/plain": [
       "-1    484\n",
       " 0    300\n",
       " 2    136\n",
       " 1     50\n",
       " 5     11\n",
       " 4     10\n",
       " 3      9\n",
       "Name: DBSCAN_2, dtype: int64"
      ]
     },
     "execution_count": 88,
     "metadata": {},
     "output_type": "execute_result"
    }
   ],
   "source": [
    "dataset2_labeled['DBSCAN_2'].value_counts()"
   ]
  },
  {
   "cell_type": "code",
   "execution_count": 80,
   "id": "76620141",
   "metadata": {},
   "outputs": [
    {
     "data": {
      "text/html": [
       "<div>\n",
       "<style scoped>\n",
       "    .dataframe tbody tr th:only-of-type {\n",
       "        vertical-align: middle;\n",
       "    }\n",
       "\n",
       "    .dataframe tbody tr th {\n",
       "        vertical-align: top;\n",
       "    }\n",
       "\n",
       "    .dataframe thead th {\n",
       "        text-align: right;\n",
       "    }\n",
       "</style>\n",
       "<table border=\"1\" class=\"dataframe\">\n",
       "  <thead>\n",
       "    <tr style=\"text-align: right;\">\n",
       "      <th></th>\n",
       "      <th>F0</th>\n",
       "      <th>F1</th>\n",
       "      <th>F2</th>\n",
       "      <th>F3</th>\n",
       "    </tr>\n",
       "  </thead>\n",
       "  <tbody>\n",
       "    <tr>\n",
       "      <th>0</th>\n",
       "      <td>-1.499212</td>\n",
       "      <td>5.202552</td>\n",
       "      <td>-1.499212</td>\n",
       "      <td>5.202552</td>\n",
       "    </tr>\n",
       "    <tr>\n",
       "      <th>1</th>\n",
       "      <td>-10.027096</td>\n",
       "      <td>16.292373</td>\n",
       "      <td>-10.027096</td>\n",
       "      <td>16.292373</td>\n",
       "    </tr>\n",
       "    <tr>\n",
       "      <th>2</th>\n",
       "      <td>-8.609967</td>\n",
       "      <td>9.453919</td>\n",
       "      <td>-8.609967</td>\n",
       "      <td>9.453919</td>\n",
       "    </tr>\n",
       "    <tr>\n",
       "      <th>3</th>\n",
       "      <td>-3.611808</td>\n",
       "      <td>9.100601</td>\n",
       "      <td>-3.611808</td>\n",
       "      <td>9.100601</td>\n",
       "    </tr>\n",
       "    <tr>\n",
       "      <th>4</th>\n",
       "      <td>-9.950580</td>\n",
       "      <td>16.051347</td>\n",
       "      <td>-9.950580</td>\n",
       "      <td>16.051347</td>\n",
       "    </tr>\n",
       "    <tr>\n",
       "      <th>...</th>\n",
       "      <td>...</td>\n",
       "      <td>...</td>\n",
       "      <td>...</td>\n",
       "      <td>...</td>\n",
       "    </tr>\n",
       "    <tr>\n",
       "      <th>995</th>\n",
       "      <td>-13.190091</td>\n",
       "      <td>17.275747</td>\n",
       "      <td>-13.190091</td>\n",
       "      <td>17.275747</td>\n",
       "    </tr>\n",
       "    <tr>\n",
       "      <th>996</th>\n",
       "      <td>-10.931399</td>\n",
       "      <td>17.065624</td>\n",
       "      <td>-10.931399</td>\n",
       "      <td>17.065624</td>\n",
       "    </tr>\n",
       "    <tr>\n",
       "      <th>997</th>\n",
       "      <td>-9.941240</td>\n",
       "      <td>16.463917</td>\n",
       "      <td>-9.941240</td>\n",
       "      <td>16.463917</td>\n",
       "    </tr>\n",
       "    <tr>\n",
       "      <th>998</th>\n",
       "      <td>-10.647363</td>\n",
       "      <td>17.416278</td>\n",
       "      <td>-10.647363</td>\n",
       "      <td>17.416278</td>\n",
       "    </tr>\n",
       "    <tr>\n",
       "      <th>999</th>\n",
       "      <td>-10.445516</td>\n",
       "      <td>16.329600</td>\n",
       "      <td>-10.445516</td>\n",
       "      <td>16.329600</td>\n",
       "    </tr>\n",
       "  </tbody>\n",
       "</table>\n",
       "<p>1000 rows × 4 columns</p>\n",
       "</div>"
      ],
      "text/plain": [
       "            F0         F1         F2         F3\n",
       "0    -1.499212   5.202552  -1.499212   5.202552\n",
       "1   -10.027096  16.292373 -10.027096  16.292373\n",
       "2    -8.609967   9.453919  -8.609967   9.453919\n",
       "3    -3.611808   9.100601  -3.611808   9.100601\n",
       "4    -9.950580  16.051347  -9.950580  16.051347\n",
       "..         ...        ...        ...        ...\n",
       "995 -13.190091  17.275747 -13.190091  17.275747\n",
       "996 -10.931399  17.065624 -10.931399  17.065624\n",
       "997  -9.941240  16.463917  -9.941240  16.463917\n",
       "998 -10.647363  17.416278 -10.647363  17.416278\n",
       "999 -10.445516  16.329600 -10.445516  16.329600\n",
       "\n",
       "[1000 rows x 4 columns]"
      ]
     },
     "execution_count": 80,
     "metadata": {},
     "output_type": "execute_result"
    }
   ],
   "source": [
    "data_3.iloc[:, :4]"
   ]
  },
  {
   "cell_type": "code",
   "execution_count": 81,
   "id": "05477e0c",
   "metadata": {},
   "outputs": [],
   "source": [
    "dbscan = cluster.DBSCAN(eps=1.5, min_samples=8, metric='euclidean')\n",
    "dbscan_labels = dbscan.fit_predict(data_3.iloc[:, :4])"
   ]
  },
  {
   "cell_type": "code",
   "execution_count": 82,
   "id": "1b1b47af",
   "metadata": {},
   "outputs": [],
   "source": [
    "dataset3_labeled = data_3.copy()\n",
    "dataset3_labeled['dbscan'] = dbscan_labels"
   ]
  },
  {
   "cell_type": "code",
   "execution_count": 84,
   "id": "c11b8ba0",
   "metadata": {},
   "outputs": [
    {
     "data": {
      "text/plain": [
       " 1    333\n",
       " 0    331\n",
       " 2    320\n",
       "-1     16\n",
       "Name: dbscan, dtype: int64"
      ]
     },
     "execution_count": 84,
     "metadata": {},
     "output_type": "execute_result"
    }
   ],
   "source": [
    "dataset3_labeled['dbscan'].value_counts()"
   ]
  },
  {
   "cell_type": "code",
   "execution_count": 90,
   "id": "5e6b6332",
   "metadata": {},
   "outputs": [
    {
     "name": "stdout",
     "output_type": "stream",
     "text": [
      "12\n"
     ]
    }
   ],
   "source": [
    "import torch\n",
    "\n",
    "t1 = torch.randn(size=(2, 3, 4, 9))  \n",
    "t2 = t1.view(6, -1, 3)              \n",
    "print(t2.size()[1])  "
   ]
  }
 ],
 "metadata": {
  "kernelspec": {
   "display_name": "3.10.9",
   "language": "python",
   "name": "python3"
  },
  "language_info": {
   "codemirror_mode": {
    "name": "ipython",
    "version": 3
   },
   "file_extension": ".py",
   "mimetype": "text/x-python",
   "name": "python",
   "nbconvert_exporter": "python",
   "pygments_lexer": "ipython3",
   "version": "3.10.9"
  }
 },
 "nbformat": 4,
 "nbformat_minor": 5
}

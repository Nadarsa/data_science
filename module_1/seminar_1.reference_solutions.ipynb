{
 "cells": [
  {
   "cell_type": "markdown",
   "id": "59184bed-b2c9-4421-b4f4-e508c112b6fc",
   "metadata": {},
   "source": [
    "# Задание 1. Проверка чётности числа\r\n",
    "Введите число и проверьте, является ли оно чётным."
   ]
  },
  {
   "cell_type": "code",
   "execution_count": 8,
   "id": "308cb309-5da3-416a-87e2-c1c6422464ac",
   "metadata": {},
   "outputs": [
    {
     "name": "stdin",
     "output_type": "stream",
     "text": [
      "Введите число:  20\n"
     ]
    },
    {
     "name": "stdout",
     "output_type": "stream",
     "text": [
      "Число чётное\n"
     ]
    }
   ],
   "source": [
    "number = int(input(\"Введите число: \"))\n",
    "\n",
    "if number % 2 == 0:\n",
    "    print(\"Число чётное\")\n",
    "else:\n",
    "    print(\"Число нечётное\")"
   ]
  },
  {
   "cell_type": "markdown",
   "id": "b21069ef-0ae7-4e6b-ac5e-2577a8792372",
   "metadata": {},
   "source": [
    "# Задание 2. Сумма чисел от 1 до 10\n",
    "Используйте цикл for для подсчета суммы чисел от 1 до 10."
   ]
  },
  {
   "cell_type": "code",
   "execution_count": 10,
   "id": "c10f264f-5012-449c-990a-ee08288fd610",
   "metadata": {},
   "outputs": [
    {
     "name": "stdout",
     "output_type": "stream",
     "text": [
      "Сумма чисел от 1 до 10: 55\n"
     ]
    }
   ],
   "source": [
    "total = 0\n",
    "for i in range(1, 11):\n",
    "    total += i\n",
    "print(\"Сумма чисел от 1 до 10:\", total)"
   ]
  },
  {
   "cell_type": "markdown",
   "id": "110336cb-a589-49cc-8dc5-a7c36b9a1b5b",
   "metadata": {},
   "source": [
    "# Задание 3. Поиск числа в списке\r\n",
    "Используйте цикл while для поиска числа в списке. Также вам поможет оператор break()"
   ]
  },
  {
   "cell_type": "code",
   "execution_count": 16,
   "id": "30d75695-5591-4086-9577-1aa4ac06dfc4",
   "metadata": {},
   "outputs": [
    {
     "name": "stdout",
     "output_type": "stream",
     "text": [
      "Число 5 найдено на индексе 2\n"
     ]
    }
   ],
   "source": [
    "numbers = [1, 3, 5, 7, 9]\n",
    "target = 5\n",
    "i = 0\n",
    "\n",
    "while i < len(numbers):\n",
    "    if numbers[i] == target:\n",
    "        print(f\"Число {target} найдено на индексе {i}\")\n",
    "        break\n",
    "    i += 1\n",
    "else:\n",
    "    print(f\"Число {target} не найдено в списке\")"
   ]
  },
  {
   "cell_type": "markdown",
   "id": "9569fd18-c46a-4f5f-9c93-3a3c18834d66",
   "metadata": {},
   "source": [
    "# Задание 4. Остановка цикла при чётном числе\n",
    "Используйте цикл `for` для поиска чётного числа и `break` для прерывания при его нахождении."
   ]
  },
  {
   "cell_type": "code",
   "execution_count": 25,
   "id": "de0b1137-af88-4515-beb7-9781470b16fc",
   "metadata": {},
   "outputs": [
    {
     "name": "stdout",
     "output_type": "stream",
     "text": [
      "Чётное число найдено: 2\n"
     ]
    }
   ],
   "source": [
    "for num in range(1, 10):\n",
    "    if num % 2 == 0:\n",
    "        print(f\"Чётное число найдено: {num}\")\n",
    "        break"
   ]
  },
  {
   "cell_type": "markdown",
   "id": "9e85e1b0-60c2-48fb-a45e-4a343d225c99",
   "metadata": {},
   "source": [
    "# Задание 5. Пропуск нечётных чисел\n",
    "Используйте цикл `for` для перебора чисел и пропуска `continue` нечётных чисел."
   ]
  },
  {
   "cell_type": "code",
   "execution_count": 31,
   "id": "fb1335dc-6c89-4113-9c4d-69b8e94ea34a",
   "metadata": {},
   "outputs": [
    {
     "name": "stdout",
     "output_type": "stream",
     "text": [
      "Чётное число: 2\n",
      "Чётное число: 4\n",
      "Чётное число: 6\n",
      "Чётное число: 8\n"
     ]
    }
   ],
   "source": [
    "for num in range(1, 10):\n",
    "    if num % 2 != 0:\n",
    "        continue\n",
    "    print(f\"Чётное число: {num}\")"
   ]
  },
  {
   "cell_type": "markdown",
   "id": "bc14265b-1beb-4dcf-a76b-7be53c434d8a",
   "metadata": {},
   "source": [
    "# Для заданий 7, 8, 9"
   ]
  },
  {
   "cell_type": "code",
   "execution_count": 35,
   "id": "2b989e2f-130c-4ee8-a910-e99dcc625012",
   "metadata": {},
   "outputs": [],
   "source": [
    "# Переменные разных типов данных\n",
    "integer_number = 10\n",
    "floating_number = 2.5\n",
    "first_string = \"Hello\"\n",
    "second_string = \"World\"\n",
    "boolean_value = True #логическая переменная"
   ]
  },
  {
   "cell_type": "markdown",
   "id": "5bdb0c4a-0b76-4b28-b96f-5f72be23b606",
   "metadata": {},
   "source": [
    "# Задание 7. Сложите целое число с числом с плавающей точкой."
   ]
  },
  {
   "cell_type": "code",
   "execution_count": 38,
   "id": "344fb667-2183-4fbe-9520-c6aba6727157",
   "metadata": {},
   "outputs": [
    {
     "name": "stdout",
     "output_type": "stream",
     "text": [
      "Сумма: 12.5\n"
     ]
    }
   ],
   "source": [
    "# Ваш код...\n",
    "result = integer_number + floating_number\n",
    "print(\"Сумма:\", result)  # Вывод: 12.5"
   ]
  },
  {
   "cell_type": "markdown",
   "id": "2dcedfaf-d4ac-43e7-b7e2-7cc6c89816c1",
   "metadata": {},
   "source": [
    "# Задание 8. Объедините две строки."
   ]
  },
  {
   "cell_type": "code",
   "execution_count": 9,
   "id": "b36694ed-b241-444c-bcc1-310d0f3821f6",
   "metadata": {},
   "outputs": [
    {
     "name": "stdout",
     "output_type": "stream",
     "text": [
      "Объединенная строка: Hello World\n"
     ]
    }
   ],
   "source": [
    "# Ваш код...\n",
    "combined_string = first_string + \" \" + second_string\n",
    "print(\"Объединенная строка:\", combined_string)"
   ]
  },
  {
   "cell_type": "markdown",
   "id": "0cb8f924-624b-4942-98dd-aecc1264266e",
   "metadata": {},
   "source": [
    "# Задание 9. Инвертируйте (поменять в противоположное) логическое значение."
   ]
  },
  {
   "cell_type": "code",
   "execution_count": 14,
   "id": "098ddf8e-5e3a-4768-b6d6-332a32cbbb1f",
   "metadata": {},
   "outputs": [
    {
     "name": "stdout",
     "output_type": "stream",
     "text": [
      "Инвертированное значение: False\n"
     ]
    }
   ],
   "source": [
    "# Ваш код...\n",
    "inverted_boolean = not boolean_value\n",
    "print(\"Инвертированное значение:\", inverted_boolean)"
   ]
  },
  {
   "cell_type": "markdown",
   "id": "80e141d5-c350-4b19-9368-3ac54dc99266",
   "metadata": {},
   "source": [
    "# Задание 10. Расчет периметра и площади прямоугольника.\n",
    "Создайте функцию `rectangle_properties`, которая принимает длину и ширину прямоугольника и возвращает кортеж, содержащий периметр и площадь прямоугольника."
   ]
  },
  {
   "cell_type": "code",
   "execution_count": 20,
   "id": "deb5f31c-a452-4641-8798-2d5534234c08",
   "metadata": {},
   "outputs": [
    {
     "name": "stdout",
     "output_type": "stream",
     "text": [
      "Периметр: 16, Площадь: 15\n"
     ]
    }
   ],
   "source": [
    "# Функция для расчета периметра и площади\n",
    "def rectangle_properties(length, width):\n",
    "    perimeter = 2 * (length + width)\n",
    "    area = length * width\n",
    "    return perimeter, area\n",
    "\n",
    "# Вызов функции\n",
    "p, a = rectangle_properties(5, 3)\n",
    "print(f\"Периметр: {p}, Площадь: {a}\")"
   ]
  },
  {
   "cell_type": "markdown",
   "id": "70292d1e-649c-41a6-82db-1bd147cbec84",
   "metadata": {},
   "source": [
    "# Задание 11. Сортировка списка по длине строк\r\n",
    "Инструкция: Напишите функцию sort_by_length, которая принимает список строк и возвращает новый список, отсортированный по длине строк в порядке возрастания."
   ]
  },
  {
   "cell_type": "code",
   "execution_count": 18,
   "id": "b20460bd-a4b9-42c8-8495-237976200489",
   "metadata": {},
   "outputs": [
    {
     "name": "stdout",
     "output_type": "stream",
     "text": [
      "Отсортированные строки по длине: ['date', 'apple', 'banana', 'cherry']\n"
     ]
    }
   ],
   "source": [
    "# Функция для сортировки строк по длине\n",
    "def sort_by_length(strings):\n",
    "    return sorted(strings, key=len)\n",
    "\n",
    "# Вызов функции\n",
    "words = [\"apple\", \"banana\", \"cherry\", \"date\"]\n",
    "sorted_words = sort_by_length(words)\n",
    "print(\"Отсортированные строки по длине:\", sorted_words)"
   ]
  },
  {
   "cell_type": "markdown",
   "id": "0be1ee2b-6071-496f-8514-487efdc26e3e",
   "metadata": {},
   "source": [
    "# Задание 12. Удаление дубликатов из списка\n",
    "Инструкция: Напишите функцию remove_duplicates, которая принимает список и возвращает новый список, содержащий только уникальные элементы из исходного списка."
   ]
  },
  {
   "cell_type": "code",
   "execution_count": 23,
   "id": "a3ea5a9b-76f7-4935-9b40-afabc69a5285",
   "metadata": {},
   "outputs": [
    {
     "name": "stdout",
     "output_type": "stream",
     "text": [
      "Список без дубликатов: [1, 2, 3, 4, 5]\n"
     ]
    }
   ],
   "source": [
    "# Функция для удаления дубликатов из списка\n",
    "def remove_duplicates(lst):\n",
    "    return list(set(lst))\n",
    "\n",
    "# Вызов функции\n",
    "numbers = [1, 2, 2, 3, 4, 4, 5]\n",
    "unique_numbers = remove_duplicates(numbers)\n",
    "print(\"Список без дубликатов:\", unique_numbers)"
   ]
  },
  {
   "cell_type": "markdown",
   "id": "994621b0-54ec-402a-b541-5b74e54aea63",
   "metadata": {},
   "source": [
    "# Задание 13. Подсчет количества слов в строке\r\n",
    "Инструкция: Напишите функцию word_count, которая принимает строку и возвращает количество слов в этой строке. Слова разделяются пробелами."
   ]
  },
  {
   "cell_type": "code",
   "execution_count": null,
   "id": "10bbbea1-a11d-4c4b-b305-e9113ef33a82",
   "metadata": {},
   "outputs": [],
   "source": [
    "# Функция для подсчета количества слов в строке\n",
    "def word_count(s):\n",
    "    words = s.split()\n",
    "    return len(words)\n",
    "\n",
    "# Вызов функции\n",
    "sentence = \"Python is a powerful programming language\"\n",
    "count = word_count(sentence)\n",
    "print(\"Количество слов в строке:\", count)"
   ]
  },
  {
   "cell_type": "markdown",
   "id": "56a2d943-4c61-4ff2-8a3d-11fc24a65d91",
   "metadata": {},
   "source": [
    "# Задание 14. Сортировка словарей по значению\r\n",
    "Инструкция: Напишите функцию sort_dict_by_value, которая принимает словарь и возвращает список кортежей (ключ, значение), отсортированный по значению в порядке возрастания."
   ]
  },
  {
   "cell_type": "code",
   "execution_count": 27,
   "id": "ebd7ceb4-93e9-4cdd-b31f-b9e4b5883670",
   "metadata": {},
   "outputs": [
    {
     "name": "stdout",
     "output_type": "stream",
     "text": [
      "Отсортированный словарь по значениям: [('cherry', 1), ('apple', 2), ('date', 3), ('banana', 4)]\n"
     ]
    }
   ],
   "source": [
    "# Функция для сортировки словаря по значениям\n",
    "def sort_dict_by_value(d):\n",
    "    return sorted(d.items(), key=lambda item: item[1])\n",
    "\n",
    "# Вызов функции\n",
    "sample_dict = {'apple': 2, 'banana': 4, 'cherry': 1, 'date': 3}\n",
    "sorted_dict = sort_dict_by_value(sample_dict)\n",
    "print(\"Отсортированный словарь по значениям:\", sorted_dict)"
   ]
  },
  {
   "cell_type": "markdown",
   "id": "d6f73942-6758-4748-bf34-4d02f30659cf",
   "metadata": {},
   "source": [
    "# Задание 15. Поиск общих элементов в двух списках\r\n",
    "Инструкция: Напишите функцию find_common_elements, которая принимает два списка и возвращает список общих элементов."
   ]
  },
  {
   "cell_type": "code",
   "execution_count": 30,
   "id": "af5ea437-2fa5-446d-ab36-b83196619383",
   "metadata": {},
   "outputs": [
    {
     "name": "stdout",
     "output_type": "stream",
     "text": [
      "Общие элементы: [4, 5]\n"
     ]
    }
   ],
   "source": [
    "# Функция для поиска общих элементов\n",
    "def find_common_elements(list1, list2):\n",
    "    return list(set(list1) & set(list2))\n",
    "\n",
    "# Вызов функции\n",
    "list_a = [1, 2, 3, 4, 5]\n",
    "list_b = [4, 5, 6, 7, 8]\n",
    "common_elements = find_common_elements(list_a, list_b)\n",
    "print(\"Общие элементы:\", common_elements)"
   ]
  },
  {
   "cell_type": "markdown",
   "id": "36af7959-c505-4a65-a5a4-88f1c3b15d97",
   "metadata": {},
   "source": [
    "# Задание 16. Вложенная функция для вычисления суммы и произведения\n",
    "Инструкция: Создайте функцию calculate, которая принимает два числа и внутри себя определяет две вложенные функции: add и multiply. Функция calculate должна возвращать результат сложения и произведения чисел, используя вложенные функции."
   ]
  },
  {
   "cell_type": "code",
   "execution_count": 33,
   "id": "fd7a99d8-ec88-42f3-86fc-e5e6909160a4",
   "metadata": {},
   "outputs": [
    {
     "name": "stdout",
     "output_type": "stream",
     "text": [
      "Сумма: 8\n",
      "Произведение: 15\n"
     ]
    }
   ],
   "source": [
    "# Основная функция с вложенными функциями\n",
    "def calculate(x, y):\n",
    "    def add(a, b):\n",
    "        return a + b\n",
    "    \n",
    "    def multiply(a, b):\n",
    "        return a * b\n",
    "    \n",
    "    sum_result = add(x, y)\n",
    "    product_result = multiply(x, y)\n",
    "    \n",
    "    return sum_result, product_result\n",
    "\n",
    "# Вызов функции\n",
    "result = calculate(5, 3)\n",
    "print(\"Сумма:\", result[0])\n",
    "print(\"Произведение:\", result[1])"
   ]
  },
  {
   "cell_type": "markdown",
   "id": "f19cbe3c-7741-48a5-8bab-05004f2e023f",
   "metadata": {},
   "source": [
    "# Задание 17. Вложенные функции для вычисления среднего арифметического\r\n",
    "Создайте функцию average_calculator, которая принимает список чисел. Внутри нее определите вложенную функцию calculate_average, которая вычисляет среднее арифметическое этих чисел. Функция average_calculator должна возвращать результат работы вложенной функции."
   ]
  },
  {
   "cell_type": "code",
   "execution_count": 36,
   "id": "3ec029c8-a1c6-4edf-8ad5-f10fb2ed5c94",
   "metadata": {},
   "outputs": [
    {
     "name": "stdout",
     "output_type": "stream",
     "text": [
      "Среднее арифметическое: 30.0\n"
     ]
    }
   ],
   "source": [
    "# Основная функция с вложенной функцией для вычисления среднего\n",
    "def average_calculator(numbers):\n",
    "    def calculate_average(nums):\n",
    "        return sum(nums) / len(nums) if nums else 0\n",
    "    \n",
    "    return calculate_average(numbers)\n",
    "\n",
    "# Вызов функции\n",
    "numbers = [10, 20, 30, 40, 50]\n",
    "average = average_calculator(numbers)\n",
    "print(\"Среднее арифметическое:\", average)"
   ]
  },
  {
   "cell_type": "markdown",
   "id": "1f5ca4a6-6ebd-44d2-a9b3-a8d4c411b047",
   "metadata": {},
   "source": [
    "# Задание 18. Вложенные функции для проверки диапазона\r\n",
    "Создайте функцию range_check, которая принимает число и два предела (min и max). Внутри функции range_check определите вложенную функцию is_within_range, которая проверяет, входит ли число в заданный диапазон (включительно). Функция range_check должна возвращать результат проверки.\r\n",
    "\r\n",
    "P.S. Операторы: \r\n",
    "- `>` (больше);\r\n",
    "- `<` (меньше); \r\n",
    "- `>=`(больше или равно); \r\n",
    "- `<=`(меньше или равно)."
   ]
  },
  {
   "cell_type": "code",
   "execution_count": 40,
   "id": "e0784a65-e8c8-4d4c-be2a-3f17a2d6a2ba",
   "metadata": {},
   "outputs": [
    {
     "name": "stdout",
     "output_type": "stream",
     "text": [
      "Число 10 в диапазоне от 5 до 15: True\n"
     ]
    }
   ],
   "source": [
    "# Основная функция с вложенной функцией для проверки диапазона\n",
    "def range_check(number, min_val, max_val):\n",
    "    def is_within_range(n):\n",
    "        return min_val <= n <= max_val\n",
    "    \n",
    "    return is_within_range(number)\n",
    "\n",
    "# Вызов функции\n",
    "number = 10\n",
    "result = range_check(number, 5, 15)\n",
    "print(f\"Число {number} в диапазоне от 5 до 15: {result}\")"
   ]
  },
  {
   "cell_type": "markdown",
   "id": "5e327c7f-7609-4191-a78d-466523a7373c",
   "metadata": {},
   "source": [
    "# задание 19. Сумма цифр числа\r\n",
    "Напишите рекурсивную функцию sum_of_digits, которая принимает целое число и возвращает сумму его цифр."
   ]
  },
  {
   "cell_type": "code",
   "execution_count": 44,
   "id": "da8319f8-4beb-4862-b07f-7200176e0a56",
   "metadata": {},
   "outputs": [
    {
     "name": "stdout",
     "output_type": "stream",
     "text": [
      "Сумма цифр числа 12345: 15\n"
     ]
    }
   ],
   "source": [
    "# Рекурсивная функция для нахождения суммы цифр числа\n",
    "def sum_of_digits(n):\n",
    "    if n == 0:\n",
    "        return 0\n",
    "    else:\n",
    "        return n % 10 + sum_of_digits(n // 10)\n",
    "\n",
    "# Вызов функции\n",
    "result = sum_of_digits(12345)\n",
    "print(\"Сумма цифр числа 12345:\", result)"
   ]
  },
  {
   "cell_type": "markdown",
   "id": "2c0e6399-72cc-4260-9952-67a518b1ace2",
   "metadata": {},
   "source": [
    "# Задание 20. Нахождение наибольшего общего делителя (НОД)\r\n",
    "Напишите рекурсивную функцию gcd, которая принимает два числа и возвращает их наибольший общий делитель (НОД) с использованием алгоритма Евклида."
   ]
  },
  {
   "cell_type": "code",
   "execution_count": 47,
   "id": "6a47f480-0dc8-431f-ab8d-6e2377acc2d1",
   "metadata": {},
   "outputs": [
    {
     "name": "stdout",
     "output_type": "stream",
     "text": [
      "НОД чисел 48 и 18: 6\n"
     ]
    }
   ],
   "source": [
    "# Рекурсивная функция для нахождения НОД\n",
    "def gcd(a, b):\n",
    "    if b == 0:\n",
    "        return a\n",
    "    else:\n",
    "        return gcd(b, a % b)\n",
    "\n",
    "# Вызов функции\n",
    "result = gcd(48, 18)\n",
    "print(\"НОД чисел 48 и 18:\", result)"
   ]
  },
  {
   "cell_type": "markdown",
   "id": "d83a9a55-d615-4f34-bba7-b39467ad64cc",
   "metadata": {},
   "source": [
    "# Задание 21. Рекурсивное вычисление степени числа\n",
    "Напишите рекурсивную функцию power, которая принимает два числа (основание и показатель) и возвращает результат возведения основания в указанную степень."
   ]
  },
  {
   "cell_type": "code",
   "execution_count": 50,
   "id": "9a8de141-5f1c-4b20-ac42-2a09dc7e2d20",
   "metadata": {},
   "outputs": [
    {
     "name": "stdout",
     "output_type": "stream",
     "text": [
      "2 в степени 3: 8\n"
     ]
    }
   ],
   "source": [
    "# Рекурсивная функция для возведения числа в степень\n",
    "def power(base, exp):\n",
    "    if exp == 0:\n",
    "        return 1\n",
    "    else:\n",
    "        return base * power(base, exp - 1)\n",
    "\n",
    "# Вызов функции\n",
    "result = power(2, 3)\n",
    "print(\"2 в степени 3:\", result)"
   ]
  },
  {
   "cell_type": "markdown",
   "id": "470ccec2-0ba4-496d-b3bc-81674996d179",
   "metadata": {},
   "source": [
    "# Задание 22. Фильтрация списка по условию\r\n",
    "Используйте лямбда-функцию и функцию filter, чтобы отфильтровать список и оставить только четные числа."
   ]
  },
  {
   "cell_type": "code",
   "execution_count": 53,
   "id": "20d1e7ab-797d-44a9-8b58-d5120a1bf6ba",
   "metadata": {},
   "outputs": [
    {
     "name": "stdout",
     "output_type": "stream",
     "text": [
      "Четные числа: [2, 4, 6, 8, 10]\n"
     ]
    }
   ],
   "source": [
    "# Лямбда-функция для фильтрации четных чисел\n",
    "numbers = [1, 2, 3, 4, 5, 6, 7, 8, 9, 10]\n",
    "even_numbers = list(filter(lambda x: x % 2 == 0, numbers))\n",
    "print(\"Четные числа:\", even_numbers)"
   ]
  },
  {
   "cell_type": "markdown",
   "id": "a6ff6d51-dd42-468b-9560-7a29f60f6917",
   "metadata": {},
   "source": [
    "# Задание 23. Умножение каждого элемента списка на 2\n",
    "Используйте лямбда-функцию и функцию map, чтобы умножить каждый элемент списка на 2."
   ]
  },
  {
   "cell_type": "code",
   "execution_count": 56,
   "id": "eba85206-8dfc-4c05-a43e-f57e46757d78",
   "metadata": {},
   "outputs": [
    {
     "name": "stdout",
     "output_type": "stream",
     "text": [
      "Умноженные на 2 числа: [2, 4, 6, 8, 10]\n"
     ]
    }
   ],
   "source": [
    "# Лямбда-функция для умножения каждого элемента на 2\n",
    "numbers = [1, 2, 3, 4, 5]\n",
    "doubled_numbers = list(map(lambda x: x * 2, numbers))\n",
    "print(\"Умноженные на 2 числа:\", doubled_numbers)"
   ]
  }
 ],
 "metadata": {
  "kernelspec": {
   "display_name": "Python 3 (ipykernel)",
   "language": "python",
   "name": "python3"
  },
  "language_info": {
   "codemirror_mode": {
    "name": "ipython",
    "version": 3
   },
   "file_extension": ".py",
   "mimetype": "text/x-python",
   "name": "python",
   "nbconvert_exporter": "python",
   "pygments_lexer": "ipython3",
   "version": "3.11.7"
  }
 },
 "nbformat": 4,
 "nbformat_minor": 5
}

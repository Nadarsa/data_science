{
 "cells": [
  {
   "cell_type": "markdown",
   "metadata": {
    "id": "vBp_z_fuARYs"
   },
   "source": [
    "# **Дополнительное домашнее задание. Логистическая регрессия и решающие деревья**"
   ]
  },
  {
   "cell_type": "markdown",
   "metadata": {
    "id": "QJWpCwbaZtbf"
   },
   "source": [
    "Суммарно 10 баллов за всю работу. По 5 баллов в каждой части.\n",
    "\n",
    "Требуется выполнить следующие задания."
   ]
  },
  {
   "cell_type": "code",
   "execution_count": 3,
   "metadata": {
    "deletable": false,
    "editable": false,
    "id": "LAazO1JI_9Nb",
    "nbgrader": {
     "cell_type": "code",
     "checksum": "4a97adf18cbf7d9242167540ed264dc2",
     "grade": false,
     "grade_id": "cell-3a9d1fb3",
     "locked": true,
     "schema_version": 3,
     "solution": false,
     "task": false
    },
    "tags": []
   },
   "outputs": [],
   "source": [
    "import numpy as np\n",
    "import pandas as pd\n",
    "import matplotlib.pyplot as plt\n",
    "%matplotlib inline\n",
    "\n",
    "import random\n",
    "\n",
    "from __future__ import annotations"
   ]
  },
  {
   "cell_type": "markdown",
   "metadata": {
    "id": "xYmiOkCgOjeV"
   },
   "source": [
    "## **Часть 1. Логистическая регрессия (5 баллов)**"
   ]
  },
  {
   "cell_type": "markdown",
   "metadata": {
    "id": "zI5d1wcDOjeW"
   },
   "source": [
    "**Задание 1 (3 балла)**. Реализуйте логистическую регрессию, обучаемую с помощью двух видов градиенткого спуска:\n",
    "- полный (по всем данным) градиентный спуск;\n",
    "\n",
    "- стохастический градиентный спуск;\n",
    "\n",
    "Во всех пунктах необходимо соблюдать два условия:\n",
    "- Циклы можно использовать только для итераций градиентного спуска.\n",
    "- В качестве критерия останова необходимо использовать (одновременно):\n",
    "\n",
    "    - проверку на евклидову норму разности весов на двух соседних итерациях (например, меньше некоторого малого числа порядка 1e-6), задаваемого параметром `tolerance`;\n",
    "    - достижение максимального числа итераций (например, 10000), задаваемого параметром `max_iter`.\n",
    "\n",
    "Чтобы проследить, что оптимизационный процесс действительно сходится, добавьте атрибут класса `loss_history`. В нем после вызова метода `fit` должны содержаться значения функции потерь для всех итераций градиентного спуска, начиная с нулевой.\n",
    "\n",
    "Инициализировать веса можно случайным образом или нулевым вектором."
   ]
  },
  {
   "cell_type": "code",
   "execution_count": 11,
   "metadata": {
    "id": "qtjYaxHCahgu"
   },
   "outputs": [],
   "source": [
    "from sklearn.base import BaseEstimator\n",
    "from sklearn.metrics import precision_recall_curve, roc_auc_score, roc_curve, auc, average_precision_score\n",
    "from sklearn.model_selection import KFold"
   ]
  },
  {
   "cell_type": "code",
   "execution_count": 4,
   "metadata": {
    "id": "ReCAYLn6OjeX"
   },
   "outputs": [],
   "source": [
    "class MyLogisticRegression(BaseEstimator):\n",
    "    def __init__(self, gd_type: str = 'stochastic', tolerance: float = 1e-6,\n",
    "                 max_iter: int = 1000, eta: float = 1e-2,\n",
    "                 w0: np.array = None) -> None: \n",
    "        \"\"\"\n",
    "        Аргументы:\n",
    "          gd_type: вид градиентного спуска ('full' или 'stochastic').\n",
    "\n",
    "          tolerance: порог для остановки градиетного спуска.\n",
    "\n",
    "          max_iter: максимальное количество шагов в градиентном спуске.\n",
    "\n",
    "          eta: скорость обучения (learning rate).\n",
    "\n",
    "          w0: массив размерности d (d — количество весов в оптимизации).\n",
    "              Начальные веса.\n",
    "        \"\"\"\n",
    "        self.gd_type = gd_type\n",
    "        self.tolerance = tolerance\n",
    "        self.max_iter = max_iter\n",
    "        self.eta = eta\n",
    "        self.w0 = w0\n",
    "        self.w = None\n",
    "        self.loss_history = None\n",
    "        \n",
    "    def sigmoid(self, z):\n",
    "      return 1 / (1 + np.exp(-z))\n",
    "    \n",
    "    def calc_gradient(self, X: np.array, y: np.array) -> np.array:\n",
    "        \"\"\"Вычислите градиент функции потерь после каждой итерации.\n",
    "\n",
    "        Аргументы:\n",
    "          X: массив размером (n, d), n может быть равно 1, если выбран 'stochastic'.\n",
    "          y: массив размером (n,).\n",
    "\n",
    "        Возвращает:\n",
    "          Массив размером (d,).\n",
    "          Градиент функции потерь после текущей итерации.\n",
    "        \"\"\"\n",
    "        m = X.shape[0]\n",
    "        h = self.sigmoid(X @ self.w)\n",
    "        gradient = X.T @ (h - y) / m\n",
    "        return gradient\n",
    "      \n",
    "\n",
    "    def calc_loss(self, X: np.array, y: np.array) -> float:\n",
    "        \"\"\"Вычислите значение функции потерь после каждой итерации.\n",
    "\n",
    "        Аргументы:\n",
    "          X: массив размером (n, d).\n",
    "          y: массив размером (n,).\n",
    "\n",
    "        Возвращает:\n",
    "          Значение функции потерь после текущей итерации.\n",
    "        \"\"\"\n",
    "        m = X.shape[0]\n",
    "        z = X @ self.w\n",
    "        h = self.sigmoid(z)\n",
    "        h = np.clip(h, 1e-15, 1 - 1e-15)\n",
    "        loss = -np.mean(y * np.log(h) + (1 - y) * np.log(1 - h))\n",
    "        return loss\n",
    "\n",
    "\n",
    "    def fit(self, X: np.array, y: np.array) -> MyLogisticRegression:\n",
    "        \"\"\"Обучаем модель на training данных. Сохраняйте значении функции потерь после каждой итерации.\n",
    "\n",
    "        Аргументы:\n",
    "          X: данные на обучение.\n",
    "\n",
    "          y: целевая переменная.\n",
    "\n",
    "        Возвращает:\n",
    "          self: обученный регрессор.\n",
    "        \"\"\"\n",
    "        n_samples, n_features = X.shape\n",
    "        self.w = self.w0 if self.w0 is not None else np.zeros(n_features)\n",
    "        self.loss_history = []\n",
    "\n",
    "        for i in range(self.max_iter):\n",
    "            if self.gd_type == 'full':\n",
    "                grad = self.calc_gradient(X, y)\n",
    "            elif self.gd_type == 'stochastic':\n",
    "                idx = np.random.randint(0, n_samples)\n",
    "                grad = self.calc_gradient(X[idx:idx+1], y[idx:idx+1])\n",
    "            else:\n",
    "                raise ValueError(\"gd_type must be 'full' or 'stochastic'\")\n",
    "\n",
    "            w_new = self.w - self.eta * grad\n",
    "            loss = self.calc_loss(X, y)\n",
    "            self.loss_history.append(loss)\n",
    "\n",
    "            if np.linalg.norm(w_new - self.w) < self.tolerance:\n",
    "                self.w = w_new\n",
    "                break\n",
    "            self.w = w_new\n",
    "\n",
    "        return self\n",
    "\n",
    "\n",
    "    def predict_proba(self, X: np.array) -> np.array:\n",
    "        \"\"\"Вычислите вероятности положительного и отрицательного классов для каждого наблюдения.\n",
    "\n",
    "        Аргументы:\n",
    "          X: массив размером (n, d).\n",
    "             Данные.\n",
    "\n",
    "        Возвращает:\n",
    "             Массив размером (n, 2).\n",
    "             Предсказанные вероятности.\n",
    "        \"\"\"\n",
    "        if self.w is None:\n",
    "            raise Exception('Not trained yet')\n",
    "        \n",
    "        probs = self.sigmoid(X @ self.w)\n",
    "        return np.vstack([1 - probs, probs]).T\n",
    "\n",
    "\n",
    "    def predict(self, X: np.array) -> np.array:\n",
    "        \"\"\"Предсказание метки класса для каждого наблюдения.\n",
    "\n",
    "        Аргументы:\n",
    "          X: массив размером (n, d).\n",
    "             Данные.\n",
    "\n",
    "        Возвращает:\n",
    "             Массив размером (n,).\n",
    "             Предсказанные метки классов.\n",
    "        \"\"\"\n",
    "        if self.w is None:\n",
    "            raise Exception('Not trained yet')\n",
    "          \n",
    "        probs = self.predict_proba(X)[:, 1]\n",
    "        return (probs >= 0.5).astype(int)\n"
   ]
  },
  {
   "cell_type": "markdown",
   "metadata": {
    "id": "0EHJ_pqXOjeY"
   },
   "source": [
    "Далее предполагается, что вы используете собственную реализацию логистической регрессии.\n",
    "Если с написанием класса возникли проблемы, используйте реализацию sklearn, чтобы не терять баллы за остальные задания."
   ]
  },
  {
   "cell_type": "markdown",
   "metadata": {
    "id": "MhoFH4BfOjeZ"
   },
   "source": [
    "Сгенерируем искусственные данные."
   ]
  },
  {
   "cell_type": "code",
   "execution_count": 5,
   "metadata": {
    "id": "5dh6ImQQOjeZ"
   },
   "outputs": [],
   "source": [
    "from sklearn.datasets import make_classification\n",
    "from sklearn.model_selection import train_test_split\n",
    "\n",
    "X, y = make_classification(\n",
    "    n_samples=10000, n_features=10, n_informative=5, n_redundant=5,\n",
    "    random_state=999)\n",
    "\n",
    "X_train, X_test, y_train, y_test = train_test_split(\n",
    "    X, y, test_size=0.3, random_state=999)"
   ]
  },
  {
   "cell_type": "markdown",
   "metadata": {
    "id": "BJlB_E7nOjea"
   },
   "source": [
    "**Задание 2 (1 балл).** Обучите логистическую регрессию на искусственных данных. Нарисуйте изменение лосса во время обучения."
   ]
  },
  {
   "cell_type": "code",
   "execution_count": 7,
   "metadata": {},
   "outputs": [
    {
     "data": {
      "image/png": "[encoded data removed]",
      "text/plain": [
       "<Figure size 640x480 with 1 Axes>"
      ]
     },
     "metadata": {},
     "output_type": "display_data"
    }
   ],
   "source": [
    "# Обучение модели логистичсекой регрессии на искусственных данных\n",
    "lg_model = MyLogisticRegression(gd_type='full', eta=0.1, max_iter=500)\n",
    "lg_model.fit(X_train, y_train)\n",
    "\n",
    "# График изменения лосса на обучении\n",
    "plt.plot(lg_model.loss_history)\n",
    "plt.title('График функции потерь во время обучения')\n",
    "plt.xlabel(\"Итерация\")\n",
    "plt.ylabel(\"Loss\")\n",
    "plt.grid(True)\n",
    "plt.show()"
   ]
  },
  {
   "cell_type": "markdown",
   "metadata": {
    "id": "tuHbOvPlOjec"
   },
   "source": [
    "На тестовой части посчитайте ROC-AUC, PR-AUC. Постройте ROC- и PR-кривые."
   ]
  },
  {
   "cell_type": "code",
   "execution_count": null,
   "metadata": {
    "id": "wN1zT9E-Ydc8"
   },
   "outputs": [
    {
     "data": {
      "image/png": "[encoded data removed]",
      "text/plain": [
       "<Figure size 1200x500 with 2 Axes>"
      ]
     },
     "metadata": {},
     "output_type": "display_data"
    }
   ],
   "source": [
    "y_probs = lg_model.predict_proba(X_test)[:, 1]  # предсказываем вероятности \n",
    "roc_auc = roc_auc_score(y_test, y_probs)  # считаем roc_auc метрику\n",
    "precision, recall, _ = precision_recall_curve(y_test, y_probs)  # считаем precision и recall метрики\n",
    "pr_auc = auc(recall, precision)  # считаем auc \n",
    "\n",
    "fpr, tpr, _ = roc_curve(y_test, y_probs)  # построение ROC-кривой\n",
    "\n",
    "# Построение графика\n",
    "plt.figure(figsize=(12, 5))  \n",
    "plt.subplot(1, 2, 1)\n",
    "plt.plot(fpr, tpr, label=f\"ROC AUC = {roc_auc:.2f}\")\n",
    "plt.plot([0, 1], [0, 1], linestyle='--', color='gray')\n",
    "plt.title(\"ROC-кривая\")\n",
    "plt.xlabel(\"False Positive Rate\")\n",
    "plt.ylabel(\"True Positive Rate\")\n",
    "plt.legend()\n",
    "\n",
    "plt.subplot(1, 2, 2)\n",
    "plt.plot(recall, precision, label=f\"PR AUC = {pr_auc:.2f}\")\n",
    "plt.title(\"PR-кривая\")\n",
    "plt.xlabel(\"Recall\")\n",
    "plt.ylabel(\"Precision\")\n",
    "plt.legend()\n",
    "\n",
    "plt.tight_layout()\n",
    "plt.show()\n"
   ]
  },
  {
   "cell_type": "markdown",
   "metadata": {
    "id": "6aTPsxh6Ydc9"
   },
   "source": [
    "**Задание 3 (1 балл).** Оцените ошибку ROC-AUC и PR-AUC вашей модели при помощи K-fold кросс-валидации.  "
   ]
  },
  {
   "cell_type": "code",
   "execution_count": null,
   "metadata": {},
   "outputs": [
    {
     "name": "stdout",
     "output_type": "stream",
     "text": [
      "Фолд 1: ROC-AUC = 0.8728, PR-AUC = 0.8473\n",
      "Фолд 2: ROC-AUC = 0.8633, PR-AUC = 0.8363\n",
      "Фолд 3: ROC-AUC = 0.8552, PR-AUC = 0.8139\n",
      "Фолд 4: ROC-AUC = 0.8688, PR-AUC = 0.8463\n",
      "Фолд 5: ROC-AUC = 0.8452, PR-AUC = 0.8160\n",
      "\n",
      "Средние значения по 5 фолдам:\n",
      "Средний ROC-AUC: 0.8611\n",
      "Средний PR-AUC : 0.8320\n"
     ]
    }
   ],
   "source": [
    "# K-Fold кросс-валидация\n",
    "kf_model = KFold(n_splits=5, shuffle=True, random_state=42)\n",
    "\n",
    "# Инициализация списков для метрик\n",
    "roc_auc_scores = []\n",
    "pr_auc_scores = []\n",
    "\n",
    "# Пройдемся циклом по фолдам\n",
    "for train_index, val_index in kf_model.split(X):\n",
    "    \n",
    "    # Получаем подмножества обучающих и валидационных данных для текущего фолда.\n",
    "    X_train_k, X_val_k = X[train_index], X[val_index]\n",
    "    y_train_k, y_val_k = y[train_index], y[val_index]\n",
    "\n",
    "    # Обучаем модель логистической регрессии\n",
    "    lg_k_fold_model = MyLogisticRegression(gd_type='full', eta=0.1, max_iter=500)\n",
    "    lg_k_fold_model.fit(X_train_k, y_train_k)\n",
    "\n",
    "    # Предсказваем вероятности\n",
    "    y_proba_k = lg_k_fold_model.predict_proba(X_val_k)[:, 1]\n",
    "\n",
    "    # Подсчет и сохранение метрик\n",
    "    roc_auc_scores.append(roc_auc_score(y_val_k, y_proba_k))\n",
    "    pr_auc_scores.append(average_precision_score(y_val_k, y_proba_k))\n",
    "\n",
    "roc_auc_scores, pr_auc_scores, np.mean(roc_auc_scores), np.mean(pr_auc_scores)\n",
    "\n",
    "# Вывод результатов кросс-валидации\n",
    "for i, (roc, pr) in enumerate(zip(roc_auc_scores, pr_auc_scores), 1):\n",
    "    print(f\"Фолд {i}: ROC-AUC = {roc:.4f}, PR-AUC = {pr:.4f}\")\n",
    "\n",
    "print(\"\\nСредние значения по 5 фолдам:\")\n",
    "print(f\"Средний ROC-AUC: {np.mean(roc_auc_scores):.4f}\")\n",
    "print(f\"Средний PR-AUC : {np.mean(pr_auc_scores):.4f}\")\n"
   ]
  },
  {
   "cell_type": "markdown",
   "metadata": {
    "id": "ToLJecgbY44W"
   },
   "source": [
    "## **Часть 2. Решающие деревья (5 баллов)**"
   ]
  },
  {
   "cell_type": "markdown",
   "metadata": {
    "id": "9iAZwRjCeAQO"
   },
   "source": [
    "Здесь требуется реализовать разбиение элементов выборки в вершине дерева."
   ]
  },
  {
   "cell_type": "markdown",
   "metadata": {
    "id": "7zl0dnOpd3xX"
   },
   "source": [
    "$R_m$ — множество объектов в разбиваемой вершине, $j$ — номер признака, по которому происходит разбиение, $t$ — порог разбиения.\n",
    "\n",
    "Критерий ошибки:\n",
    "\n",
    "$$\n",
    "Q(R_m, j, t) = \\frac{|R_\\ell|}{|R_m|}H(R_\\ell) + \\frac{|R_r|}{|R_m|}H(R_r) \\to \\min_{j, t}\n",
    "$$\n",
    "\n",
    "$R_\\ell$ — множество объектов в левом поддереве, $R_r$ — множество объектов в правом поддереве.\n",
    "\n",
    "$H(R)$ — критерий информативности, с помощью которого можно оценить качество распределения целевой переменной среди объектов множества $R$."
   ]
  },
  {
   "cell_type": "code",
   "execution_count": null,
   "metadata": {
    "id": "kHeOJOhD-TVX"
   },
   "outputs": [],
   "source": [
    "from typing import Iterable, List, Tuple"
   ]
  },
  {
   "cell_type": "markdown",
   "metadata": {
    "id": "xEeetsF8f39b"
   },
   "source": [
    "Так как Boston Dataset с недавних пор отсутствует в sklearn, то ниже реализован способ загрузки данного датасета из другого источника."
   ]
  },
  {
   "cell_type": "code",
   "execution_count": null,
   "metadata": {
    "id": "LvqFxfNwKLGG"
   },
   "outputs": [],
   "source": [
    "# `load_boston` has been removed from scikit-learn since version 1.2.\n",
    "\n",
    "#from sklearn.datasets import load_boston\n",
    "#boston = load_boston()"
   ]
  },
  {
   "cell_type": "code",
   "execution_count": null,
   "metadata": {
    "id": "D_kJdSOIKL2Z"
   },
   "outputs": [],
   "source": [
    "# !wget -i https://github.com/scikit-learn/scikit-learn/blob/main/sklearn/datasets/data/boston_house_prices.csv\n",
    "#data_git = pd.read_csv('boston_house_prices.csv', sep=\"\\s+\")"
   ]
  },
  {
   "cell_type": "markdown",
   "metadata": {
    "id": "b1KE7WIFKp51"
   },
   "source": [
    "**Data Set Characteristics:**  \n",
    "\n",
    "    :Number of Instances: 506\n",
    "\n",
    "    :Number of Attributes: 13 numeric/categorical predictive. Median Value (attribute 14) is usually the target.\n",
    "\n",
    "    :Attribute Information (in order):\n",
    "        - CRIM     per capita crime rate by town\n",
    "        - ZN       proportion of residential land zoned for lots over 25,000 sq.ft.\n",
    "        - INDUS    proportion of non-retail business acres per town\n",
    "        - CHAS     Charles River dummy variable (= 1 if tract bounds river; 0 otherwise)\n",
    "        - NOX      nitric oxides concentration (parts per 10 million)\n",
    "        - RM       average number of rooms per dwelling\n",
    "        - AGE      proportion of owner-occupied units built prior to 1940\n",
    "        - DIS      weighted distances to five Boston employment centres\n",
    "        - RAD      index of accessibility to radial highways\n",
    "        - TAX      full-value property-tax rate per $10,000\n",
    "        - PTRATIO  pupil-teacher ratio by town\n",
    "        - B        1000(Bk - 0.63)^2 where Bk is the proportion of blacks by town\n",
    "        - LSTAT    % lower status of the population\n",
    "        - MEDV     Median value of owner-occupied homes in $1000's\n",
    "\n",
    "    :Missing Attribute Values: None\n",
    "\n",
    "    :Creator: Harrison, D. and Rubinfeld, D.L.\n",
    "\n",
    "This is a copy of UCI ML housing dataset.\n",
    "https://archive.ics.uci.edu/ml/machine-learning-databases/housing/\n",
    "\n",
    "This dataset was taken from the StatLib library which is maintained at Carnegie Mellon University.\n",
    "\n",
    "The Boston house-price data of Harrison, D. and Rubinfeld, D.L. 'Hedonic\n",
    "prices and the demand for clean air', J. Environ. Economics & Management,\n",
    "vol.5, 81-102, 1978.   Used in Belsley, Kuh & Welsch, 'Regression diagnostics\n",
    "...', Wiley, 1980.   N.B. Various transformations are used in the table on\n",
    "pages 244-261 of the latter.\n",
    "\n",
    "The Boston house-price data has been used in many machine learning papers that address regression\n",
    "problems.   \n",
    "     \n",
    ".. topic:: References\n",
    "\n",
    "   - Belsley, Kuh & Welsch, 'Regression diagnostics: Identifying Influential Data and Sources of Collinearity', Wiley, 1980. 244-261.\n",
    "   - Quinlan,R. (1993). Combining Instance-Based and Model-Based Learning. In Proceedings on the Tenth International Conference of Machine Learning, 236-243, University of Massachusetts, Amherst. Morgan Kaufmann.\n",
    "\n"
   ]
  },
  {
   "cell_type": "code",
   "execution_count": null,
   "metadata": {
    "id": "Qv8CemmpK2EU"
   },
   "outputs": [],
   "source": [
    "data_url = \"http://lib.stat.cmu.edu/datasets/boston\"\n",
    "raw_df = pd.read_csv(data_url, sep=\"\\s+\", skiprows=22, header=None)\n",
    "data = np.hstack([raw_df.values[::2, :], raw_df.values[1::2, :2]])\n",
    "target = raw_df.values[1::2, 2]"
   ]
  },
  {
   "cell_type": "code",
   "execution_count": null,
   "metadata": {
    "id": "3KLql08wLMKy"
   },
   "outputs": [],
   "source": [
    "feature_names = ['CRIM', 'ZN', 'INDUS', 'CHAS', 'NOX', 'RM', 'AGE', 'DIS', 'RAD', 'TAX', 'PTRATIO', 'B', 'LSTAT']\n",
    "\n",
    "X = pd.DataFrame(data, columns=feature_names, index=range(len(data)))\n",
    "y = pd.DataFrame(target, columns=['MEDV'], index=range(len(target)))\n",
    "\n",
    "X['target'] = y"
   ]
  },
  {
   "cell_type": "code",
   "execution_count": null,
   "metadata": {
    "id": "QMs9TfkuSme0"
   },
   "outputs": [],
   "source": [
    "X_train, X_test = train_test_split(X, test_size=0.25, random_state=999)"
   ]
  },
  {
   "cell_type": "markdown",
   "metadata": {
    "id": "hirWI1Vw4Fle"
   },
   "source": [
    "**Задание 1 (1 балл)**. Реализуйте подсчет критерия ошибки. Для этого реализуйте функции для подсчета значения критерия информативности, а также для разбиения вершины."
   ]
  },
  {
   "cell_type": "code",
   "execution_count": null,
   "metadata": {
    "id": "5bGstPZ14Flf"
   },
   "outputs": [],
   "source": [
    "def H(R: np.array) -> float:\n",
    "    \"\"\"\n",
    "    Вычислить критерий информативности (impurity criterion) для фиксированного набора объектов R.\n",
    "    Предполагается, что последний столбец содержить целевую переменную.\n",
    "    \"\"\"\n",
    "    # your code\n",
    "\n",
    "\n",
    "def split_node(R_m: np.array, feature: str, t: float) -> Iterable[np.array]:\n",
    "    \"\"\"\n",
    "    Разделить фиксированный набор объектов R_m с заданным признаком (номером признака) и пороговым значением t.\n",
    "    \"\"\"\n",
    "    # your code\n",
    "\n",
    "\n",
    "def q_error(R_m: np.array, feature: str, t: float) -> float:\n",
    "    \"\"\"\n",
    "    Вычислить критерий ошибки для заданных параметров разделения.\n",
    "    \"\"\"\n",
    "    # your code\n"
   ]
  },
  {
   "cell_type": "markdown",
   "metadata": {
    "id": "z5vMn7Yu4Flg"
   },
   "source": [
    "**Задание 2 (1 балл)**. Переберите все возможные разбиения обучающей выборки по одному из признаков и постройте график критерия ошибки в зависимости от значения порога."
   ]
  },
  {
   "cell_type": "code",
   "execution_count": null,
   "metadata": {
    "id": "73d0n-Ht4Flh"
   },
   "outputs": [],
   "source": [
    "# your code"
   ]
  },
  {
   "cell_type": "markdown",
   "metadata": {
    "id": "cdNVqLH24Flj"
   },
   "source": [
    "**Задание 3  (1 балл)**. Напишите функцию, находящую оптимальное разбиение данной вершины по данному признаку."
   ]
  },
  {
   "cell_type": "code",
   "execution_count": null,
   "metadata": {
    "id": "JnK6p2FU4Flk"
   },
   "outputs": [],
   "source": [
    "def get_optimal_split(R_m: np.array, feature: str) -> Tuple[float, List[float]]:\n",
    "    # your code"
   ]
  },
  {
   "cell_type": "markdown",
   "metadata": {
    "id": "WTwCYIgc4Fll"
   },
   "source": [
    "**Задание 4  (1 балл)**. Для первого разбиения найдите признак, показывающий наилучшее качество. Каков порог разбиения и значение качества? Постройте график критерия ошибки для данного признака в зависимости от значения порога."
   ]
  },
  {
   "cell_type": "code",
   "execution_count": null,
   "metadata": {
    "id": "GUl5daTc4Flo"
   },
   "outputs": [],
   "source": [
    "# your code"
   ]
  },
  {
   "cell_type": "markdown",
   "metadata": {
    "id": "qaSseANG4Flq"
   },
   "source": [
    " **Задание 5 (1 балл)**. Изобразите разбиение визуально. Для этого постройте диаграмму рассеяния целевой переменной в зависимости от значения входного признака. Далее изобразите вертикальную линию, соответствующую порогу разбиения."
   ]
  },
  {
   "cell_type": "code",
   "execution_count": null,
   "metadata": {
    "id": "Cjw3cznv8Qn2"
   },
   "outputs": [],
   "source": [
    "# your code"
   ]
  }
 ],
 "metadata": {
  "colab": {
   "provenance": []
  },
  "kernelspec": {
   "display_name": "3.10.9",
   "language": "python",
   "name": "python3"
  },
  "language_info": {
   "codemirror_mode": {
    "name": "ipython",
    "version": 3
   },
   "file_extension": ".py",
   "mimetype": "text/x-python",
   "name": "python",
   "nbconvert_exporter": "python",
   "pygments_lexer": "ipython3",
   "version": "3.10.9"
  }
 },
 "nbformat": 4,
 "nbformat_minor": 0
}

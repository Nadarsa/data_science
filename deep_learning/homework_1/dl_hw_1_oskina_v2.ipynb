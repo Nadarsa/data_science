{
 "cells": [
  {
   "cell_type": "code",
   "execution_count": 3,
   "metadata": {
    "_cell_guid": "b1076dfc-b9ad-4769-8c92-a6c4dae69d19",
    "_uuid": "8f2839f25d086af736a60e9eeb907d3b93b6e0e5",
    "execution": {
     "iopub.execute_input": "2025-05-17T19:24:29.337878Z",
     "iopub.status.busy": "2025-05-17T19:24:29.337529Z",
     "iopub.status.idle": "2025-05-17T19:24:29.344937Z",
     "shell.execute_reply": "2025-05-17T19:24:29.343878Z",
     "shell.execute_reply.started": "2025-05-17T19:24:29.337853Z"
    },
    "trusted": true
   },
   "outputs": [
    {
     "name": "stdout",
     "output_type": "stream",
     "text": [
      "/kaggle/input/mipt-bio-2025/fashion-mnist-testn/fmnist_test.csv\n",
      "/kaggle/input/mipt-bio-2025/fashion-mnist-testn/sample_submission.csv\n",
      "/kaggle/input/mipt-bio-2025/fashion-mnist-testn/fmnist_train.csv\n"
     ]
    }
   ],
   "source": [
    "# This Python 3 environment comes with many helpful analytics libraries installed\n",
    "# It is defined by the kaggle/python Docker image: https://github.com/kaggle/docker-python\n",
    "# For example, here's several helpful packages to load\n",
    "\n",
    "import numpy as np # linear algebra\n",
    "import pandas as pd # data processing, CSV file I/O (e.g. pd.read_csv)\n",
    "\n",
    "# Input data files are available in the read-only \"../input/\" directory\n",
    "# For example, running this (by clicking run or pressing Shift+Enter) will list all files under the input directory\n",
    "\n",
    "import os\n",
    "for dirname, _, filenames in os.walk('/kaggle/input'):\n",
    "    for filename in filenames:\n",
    "        print(os.path.join(dirname, filename))\n",
    "\n",
    "# You can write up to 20GB to the current directory (/kaggle/working/) that gets preserved as output when you create a version using \"Save & Run All\" \n",
    "# You can also write temporary files to /kaggle/temp/, but they won't be saved outside of the current session"
   ]
  },
  {
   "cell_type": "code",
   "execution_count": null,
   "metadata": {
    "execution": {
     "iopub.execute_input": "2025-05-17T20:09:05.305245Z",
     "iopub.status.busy": "2025-05-17T20:09:05.304954Z",
     "iopub.status.idle": "2025-05-17T20:09:19.707545Z",
     "shell.execute_reply": "2025-05-17T20:09:19.706696Z",
     "shell.execute_reply.started": "2025-05-17T20:09:05.305208Z"
    },
    "trusted": true
   },
   "outputs": [
    {
     "name": "stderr",
     "output_type": "stream",
     "text": [
      "2025-05-17 20:09:07.119415: E external/local_xla/xla/stream_executor/cuda/cuda_fft.cc:477] Unable to register cuFFT factory: Attempting to register factory for plugin cuFFT when one has already been registered\n",
      "WARNING: All log messages before absl::InitializeLog() is called are written to STDERR\n",
      "E0000 00:00:1747512547.307194      35 cuda_dnn.cc:8310] Unable to register cuDNN factory: Attempting to register factory for plugin cuDNN when one has already been registered\n",
      "E0000 00:00:1747512547.362465      35 cuda_blas.cc:1418] Unable to register cuBLAS factory: Attempting to register factory for plugin cuBLAS when one has already been registered\n"
     ]
    }
   ],
   "source": [
    "# Импорт библиотек\n",
    "import numpy as np\n",
    "import pandas as pd\n",
    "import matplotlib.pyplot as plt\n",
    "import tensorflow as tf\n",
    "from tensorflow.keras.models import Sequential\n",
    "from tensorflow.keras.layers import Conv2D, MaxPooling2D, Flatten, Dense, Dropout\n",
    "from tensorflow.keras.utils import to_categorical\n",
    "from sklearn.model_selection import train_test_split"
   ]
  },
  {
   "cell_type": "code",
   "execution_count": 2,
   "metadata": {
    "execution": {
     "iopub.execute_input": "2025-05-17T20:09:54.118382Z",
     "iopub.status.busy": "2025-05-17T20:09:54.117732Z",
     "iopub.status.idle": "2025-05-17T20:09:54.121800Z",
     "shell.execute_reply": "2025-05-17T20:09:54.121252Z",
     "shell.execute_reply.started": "2025-05-17T20:09:54.118359Z"
    },
    "trusted": true
   },
   "outputs": [],
   "source": [
    "# Загрузка данных \n",
    "train_path = '/kaggle/input/mipt-bio-2025/fashion-mnist-testn/fmnist_train.csv'\n",
    "test_path = '/kaggle/input/mipt-bio-2025/fashion-mnist-testn/fmnist_test.csv'\n",
    "submission_path = '/kaggle/input/mipt-bio-2025/fashion-mnist-testn/sample_submission.csv'"
   ]
  },
  {
   "cell_type": "code",
   "execution_count": 3,
   "metadata": {
    "execution": {
     "iopub.execute_input": "2025-05-17T20:09:56.078799Z",
     "iopub.status.busy": "2025-05-17T20:09:56.078523Z",
     "iopub.status.idle": "2025-05-17T20:09:59.060960Z",
     "shell.execute_reply": "2025-05-17T20:09:59.060340Z",
     "shell.execute_reply.started": "2025-05-17T20:09:56.078780Z"
    },
    "trusted": true
   },
   "outputs": [],
   "source": [
    "train_df = pd.read_csv(train_path)\n",
    "test_df = pd.read_csv(test_path)\n",
    "submission = pd.read_csv(submission_path)"
   ]
  },
  {
   "cell_type": "code",
   "execution_count": null,
   "metadata": {
    "execution": {
     "iopub.execute_input": "2025-05-17T20:10:00.862219Z",
     "iopub.status.busy": "2025-05-17T20:10:00.861497Z",
     "iopub.status.idle": "2025-05-17T20:10:00.905791Z",
     "shell.execute_reply": "2025-05-17T20:10:00.905179Z",
     "shell.execute_reply.started": "2025-05-17T20:10:00.862180Z"
    },
    "trusted": true
   },
   "outputs": [
    {
     "data": {
      "text/plain": [
       "{'train_shape': (17040, 786),\n",
       " 'test_shape': (10000, 785),\n",
       " 'train_nan_count': 424,\n",
       " 'test_nan_count': 0}"
      ]
     },
     "execution_count": 4,
     "metadata": {},
     "output_type": "execute_result"
    }
   ],
   "source": [
    "# Проверка на пустные значения и вывод размера трейна и теста\n",
    "result = {\n",
    "    \"train_shape\": train_df.shape,\n",
    "    \"test_shape\": test_df.shape,\n",
    "    \"train_nan_count\": train_df.isna().sum().sum(),\n",
    "    \"test_nan_count\": test_df.isna().sum().sum()\n",
    "}\n",
    "\n",
    "result"
   ]
  },
  {
   "cell_type": "markdown",
   "metadata": {},
   "source": [
    "В fmnist_train.csv оказались пропущенные значения — это значит, что у некоторых пикселей нет значения яркости, и они представлены как NaN. Keras (или любая другая нейросеть) не умеет с ними работать."
   ]
  },
  {
   "cell_type": "code",
   "execution_count": 7,
   "metadata": {
    "execution": {
     "iopub.execute_input": "2025-05-17T20:11:32.506329Z",
     "iopub.status.busy": "2025-05-17T20:11:32.506026Z",
     "iopub.status.idle": "2025-05-17T20:11:32.724763Z",
     "shell.execute_reply": "2025-05-17T20:11:32.723882Z",
     "shell.execute_reply.started": "2025-05-17T20:11:32.506307Z"
    },
    "trusted": true
   },
   "outputs": [],
   "source": [
    "# Подготовка признаков\n",
    "train_df = train_df.fillna(0)  # заполняем NaN нулям, так как это не вносит шум и не искажает данные\n",
    "X = train_df.drop(columns=[\"label\", \"Id\"]).values.reshape(-1, 28, 28, 1).astype(\"float32\") / 255.0  # нормализация\n",
    "\n",
    "y = to_categorical(train_df[\"label\"].values, num_classes=10)\n",
    "\n",
    "X_test = test_df.drop(columns=[\"Id\"]).values.reshape(-1, 28, 28, 1).astype(\"float32\") / 255.0  # нормализация\n",
    "\n",
    "test_ids = test_df[\"Id\"].values"
   ]
  },
  {
   "cell_type": "code",
   "execution_count": 8,
   "metadata": {
    "execution": {
     "iopub.execute_input": "2025-05-17T20:11:42.369320Z",
     "iopub.status.busy": "2025-05-17T20:11:42.369025Z",
     "iopub.status.idle": "2025-05-17T20:11:42.479618Z",
     "shell.execute_reply": "2025-05-17T20:11:42.479014Z",
     "shell.execute_reply.started": "2025-05-17T20:11:42.369300Z"
    },
    "trusted": true
   },
   "outputs": [],
   "source": [
    "# Разделение на обучение и валидацию \n",
    "X_train, X_val, y_train, y_val = train_test_split(X, y, test_size=0.1, random_state=42)"
   ]
  },
  {
   "cell_type": "code",
   "execution_count": 9,
   "metadata": {
    "execution": {
     "iopub.execute_input": "2025-05-17T20:12:14.494234Z",
     "iopub.status.busy": "2025-05-17T20:12:14.493531Z",
     "iopub.status.idle": "2025-05-17T20:12:16.951028Z",
     "shell.execute_reply": "2025-05-17T20:12:16.950410Z",
     "shell.execute_reply.started": "2025-05-17T20:12:14.494207Z"
    },
    "trusted": true
   },
   "outputs": [
    {
     "name": "stderr",
     "output_type": "stream",
     "text": [
      "/usr/local/lib/python3.11/dist-packages/keras/src/layers/convolutional/base_conv.py:107: UserWarning: Do not pass an `input_shape`/`input_dim` argument to a layer. When using Sequential models, prefer using an `Input(shape)` object as the first layer in the model instead.\n",
      "  super().__init__(activity_regularizer=activity_regularizer, **kwargs)\n",
      "I0000 00:00:1747512735.690566      35 gpu_device.cc:2022] Created device /job:localhost/replica:0/task:0/device:GPU:0 with 13942 MB memory:  -> device: 0, name: Tesla T4, pci bus id: 0000:00:04.0, compute capability: 7.5\n",
      "I0000 00:00:1747512735.691356      35 gpu_device.cc:2022] Created device /job:localhost/replica:0/task:0/device:GPU:1 with 13942 MB memory:  -> device: 1, name: Tesla T4, pci bus id: 0000:00:05.0, compute capability: 7.5\n"
     ]
    }
   ],
   "source": [
    "# Сверточная модель CNN\n",
    "model = Sequential([\n",
    "    Conv2D(32, (3, 3), activation='relu', input_shape=(28, 28, 1)),\n",
    "    MaxPooling2D((2, 2)),\n",
    "    Conv2D(64, (3, 3), activation='relu'),\n",
    "    MaxPooling2D((2, 2)),\n",
    "    Flatten(),\n",
    "    Dropout(0.4),\n",
    "    Dense(128, activation='relu'),\n",
    "    Dropout(0.3),\n",
    "    Dense(10, activation='softmax')\n",
    "])"
   ]
  },
  {
   "cell_type": "code",
   "execution_count": 10,
   "metadata": {
    "execution": {
     "iopub.execute_input": "2025-05-17T20:12:24.430045Z",
     "iopub.status.busy": "2025-05-17T20:12:24.429554Z",
     "iopub.status.idle": "2025-05-17T20:12:24.444356Z",
     "shell.execute_reply": "2025-05-17T20:12:24.443547Z",
     "shell.execute_reply.started": "2025-05-17T20:12:24.430023Z"
    },
    "trusted": true
   },
   "outputs": [],
   "source": [
    "# Компиляция\n",
    "model.compile(optimizer='adam', loss='categorical_crossentropy', metrics=['accuracy'])"
   ]
  },
  {
   "cell_type": "code",
   "execution_count": 16,
   "metadata": {
    "execution": {
     "iopub.execute_input": "2025-05-17T20:14:49.181550Z",
     "iopub.status.busy": "2025-05-17T20:14:49.181259Z",
     "iopub.status.idle": "2025-05-17T20:14:59.966361Z",
     "shell.execute_reply": "2025-05-17T20:14:59.965723Z",
     "shell.execute_reply.started": "2025-05-17T20:14:49.181531Z"
    },
    "trusted": true
   },
   "outputs": [
    {
     "name": "stdout",
     "output_type": "stream",
     "text": [
      "Epoch 1/20\n",
      "120/120 - 1s - 5ms/step - accuracy: 0.8786 - loss: 0.3203 - val_accuracy: 0.8856 - val_loss: 0.3251\n",
      "Epoch 2/20\n",
      "120/120 - 1s - 5ms/step - accuracy: 0.8854 - loss: 0.3092 - val_accuracy: 0.8832 - val_loss: 0.3167\n",
      "Epoch 3/20\n",
      "120/120 - 1s - 4ms/step - accuracy: 0.8892 - loss: 0.2981 - val_accuracy: 0.8826 - val_loss: 0.3099\n",
      "Epoch 4/20\n",
      "120/120 - 1s - 4ms/step - accuracy: 0.8906 - loss: 0.2952 - val_accuracy: 0.8879 - val_loss: 0.3120\n",
      "Epoch 5/20\n",
      "120/120 - 1s - 4ms/step - accuracy: 0.8936 - loss: 0.2830 - val_accuracy: 0.8932 - val_loss: 0.2956\n",
      "Epoch 6/20\n",
      "120/120 - 1s - 4ms/step - accuracy: 0.8991 - loss: 0.2720 - val_accuracy: 0.8856 - val_loss: 0.2961\n",
      "Epoch 7/20\n",
      "120/120 - 1s - 4ms/step - accuracy: 0.8989 - loss: 0.2690 - val_accuracy: 0.8932 - val_loss: 0.2892\n",
      "Epoch 8/20\n",
      "120/120 - 1s - 4ms/step - accuracy: 0.9021 - loss: 0.2615 - val_accuracy: 0.8926 - val_loss: 0.2893\n",
      "Epoch 9/20\n",
      "120/120 - 1s - 4ms/step - accuracy: 0.9032 - loss: 0.2533 - val_accuracy: 0.8938 - val_loss: 0.2844\n",
      "Epoch 10/20\n",
      "120/120 - 1s - 4ms/step - accuracy: 0.9059 - loss: 0.2445 - val_accuracy: 0.8903 - val_loss: 0.2848\n",
      "Epoch 11/20\n",
      "120/120 - 1s - 4ms/step - accuracy: 0.9082 - loss: 0.2393 - val_accuracy: 0.8985 - val_loss: 0.2812\n",
      "Epoch 12/20\n",
      "120/120 - 1s - 4ms/step - accuracy: 0.9080 - loss: 0.2366 - val_accuracy: 0.9014 - val_loss: 0.2851\n",
      "Epoch 13/20\n",
      "120/120 - 1s - 4ms/step - accuracy: 0.9129 - loss: 0.2322 - val_accuracy: 0.8932 - val_loss: 0.2942\n",
      "Epoch 14/20\n",
      "120/120 - 1s - 4ms/step - accuracy: 0.9101 - loss: 0.2314 - val_accuracy: 0.9049 - val_loss: 0.2768\n",
      "Epoch 15/20\n",
      "120/120 - 1s - 4ms/step - accuracy: 0.9184 - loss: 0.2174 - val_accuracy: 0.9026 - val_loss: 0.2725\n",
      "Epoch 16/20\n",
      "120/120 - 1s - 4ms/step - accuracy: 0.9218 - loss: 0.2071 - val_accuracy: 0.9061 - val_loss: 0.2762\n",
      "Epoch 17/20\n",
      "120/120 - 1s - 4ms/step - accuracy: 0.9206 - loss: 0.2081 - val_accuracy: 0.8991 - val_loss: 0.2779\n",
      "Epoch 18/20\n",
      "120/120 - 1s - 4ms/step - accuracy: 0.9210 - loss: 0.2058 - val_accuracy: 0.9014 - val_loss: 0.2787\n",
      "Epoch 19/20\n",
      "120/120 - 1s - 4ms/step - accuracy: 0.9263 - loss: 0.1973 - val_accuracy: 0.8967 - val_loss: 0.2732\n",
      "Epoch 20/20\n",
      "120/120 - 1s - 4ms/step - accuracy: 0.9263 - loss: 0.1917 - val_accuracy: 0.9020 - val_loss: 0.2773\n"
     ]
    }
   ],
   "source": [
    "# Обучение\n",
    "history = model.fit(\n",
    "    X_train, y_train,\n",
    "    epochs=20,\n",
    "    batch_size=128,\n",
    "    validation_data=(X_val, y_val),\n",
    "    verbose=2\n",
    ")"
   ]
  },
  {
   "cell_type": "code",
   "execution_count": 17,
   "metadata": {
    "execution": {
     "iopub.execute_input": "2025-05-17T20:15:18.577297Z",
     "iopub.status.busy": "2025-05-17T20:15:18.576724Z",
     "iopub.status.idle": "2025-05-17T20:15:18.739542Z",
     "shell.execute_reply": "2025-05-17T20:15:18.738715Z",
     "shell.execute_reply.started": "2025-05-17T20:15:18.577274Z"
    },
    "trusted": true
   },
   "outputs": [
    {
     "data": {
      "image/png": "[encoded data removed]",
      "text/plain": [
       "<Figure size 640x480 with 1 Axes>"
      ]
     },
     "metadata": {},
     "output_type": "display_data"
    }
   ],
   "source": [
    "# Визуализация метрики\n",
    "plt.plot(history.history['accuracy'], label='Train Accuracy')\n",
    "plt.plot(history.history['val_accuracy'], label='Validation Accuracy')\n",
    "plt.xlabel('Epoch')\n",
    "plt.ylabel('Accuracy')\n",
    "plt.title('Training and Validation Accuracy')\n",
    "plt.grid(True)\n",
    "plt.show()"
   ]
  },
  {
   "cell_type": "code",
   "execution_count": 18,
   "metadata": {
    "execution": {
     "iopub.execute_input": "2025-05-17T20:15:21.613119Z",
     "iopub.status.busy": "2025-05-17T20:15:21.612404Z",
     "iopub.status.idle": "2025-05-17T20:15:21.617267Z",
     "shell.execute_reply": "2025-05-17T20:15:21.616623Z",
     "shell.execute_reply.started": "2025-05-17T20:15:21.613097Z"
    },
    "trusted": true
   },
   "outputs": [
    {
     "name": "stdout",
     "output_type": "stream",
     "text": [
      "Метрика train accuracy = 0.9263\n",
      "Метрика val accuracy = 0.9020\n"
     ]
    }
   ],
   "source": [
    "# Вывод метрик\n",
    "print(f\"Метрика train accuracy = {history.history['accuracy'][-1]:.4f}\")\n",
    "print(f\"Метрика val accuracy = {history.history['val_accuracy'][-1]:.4f}\")"
   ]
  },
  {
   "cell_type": "code",
   "execution_count": 19,
   "metadata": {
    "execution": {
     "iopub.execute_input": "2025-05-17T20:15:24.107547Z",
     "iopub.status.busy": "2025-05-17T20:15:24.107065Z",
     "iopub.status.idle": "2025-05-17T20:15:24.791598Z",
     "shell.execute_reply": "2025-05-17T20:15:24.790922Z",
     "shell.execute_reply.started": "2025-05-17T20:15:24.107525Z"
    },
    "trusted": true
   },
   "outputs": [
    {
     "name": "stdout",
     "output_type": "stream",
     "text": [
      "\u001b[1m313/313\u001b[0m \u001b[32m━━━━━━━━━━━━━━━━━━━━\u001b[0m\u001b[37m\u001b[0m \u001b[1m0s\u001b[0m 1ms/step\n"
     ]
    }
   ],
   "source": [
    "# Предсказание\n",
    "y_pred = model.predict(X_test)\n",
    "y_pred_classes = np.argmax(y_pred, axis=1)\n",
    "\n",
    "submission[\"label\"] = y_pred_classes\n",
    "submission.to_csv(\"/kaggle/working/submission.csv\", index=False)\n"
   ]
  }
 ],
 "metadata": {
  "kaggle": {
   "accelerator": "nvidiaTeslaT4",
   "dataSources": [
    {
     "databundleVersionId": 12197947,
     "sourceId": 101261,
     "sourceType": "competition"
    }
   ],
   "dockerImageVersionId": 31041,
   "isGpuEnabled": true,
   "isInternetEnabled": true,
   "language": "python",
   "sourceType": "notebook"
  },
  "kernelspec": {
   "display_name": "Python 3",
   "language": "python",
   "name": "python3"
  },
  "language_info": {
   "codemirror_mode": {
    "name": "ipython",
    "version": 3
   },
   "file_extension": ".py",
   "mimetype": "text/x-python",
   "name": "python",
   "nbconvert_exporter": "python",
   "pygments_lexer": "ipython3",
   "version": "3.11.11"
  }
 },
 "nbformat": 4,
 "nbformat_minor": 4
}

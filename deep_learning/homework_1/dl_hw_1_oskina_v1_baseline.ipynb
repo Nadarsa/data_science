{
 "cells": [
  {
   "cell_type": "code",
   "execution_count": 3,
   "metadata": {
    "_cell_guid": "b1076dfc-b9ad-4769-8c92-a6c4dae69d19",
    "_uuid": "8f2839f25d086af736a60e9eeb907d3b93b6e0e5",
    "execution": {
     "iopub.execute_input": "2025-05-17T19:24:29.337878Z",
     "iopub.status.busy": "2025-05-17T19:24:29.337529Z",
     "iopub.status.idle": "2025-05-17T19:24:29.344937Z",
     "shell.execute_reply": "2025-05-17T19:24:29.343878Z",
     "shell.execute_reply.started": "2025-05-17T19:24:29.337853Z"
    },
    "trusted": true
   },
   "outputs": [
    {
     "name": "stdout",
     "output_type": "stream",
     "text": [
      "/kaggle/input/mipt-bio-2025/fashion-mnist-testn/fmnist_test.csv\n",
      "/kaggle/input/mipt-bio-2025/fashion-mnist-testn/sample_submission.csv\n",
      "/kaggle/input/mipt-bio-2025/fashion-mnist-testn/fmnist_train.csv\n"
     ]
    }
   ],
   "source": [
    "# This Python 3 environment comes with many helpful analytics libraries installed\n",
    "# It is defined by the kaggle/python Docker image: https://github.com/kaggle/docker-python\n",
    "# For example, here's several helpful packages to load\n",
    "\n",
    "import numpy as np # linear algebra\n",
    "import pandas as pd # data processing, CSV file I/O (e.g. pd.read_csv)\n",
    "\n",
    "# Input data files are available in the read-only \"../input/\" directory\n",
    "# For example, running this (by clicking run or pressing Shift+Enter) will list all files under the input directory\n",
    "\n",
    "import os\n",
    "for dirname, _, filenames in os.walk('/kaggle/input'):\n",
    "    for filename in filenames:\n",
    "        print(os.path.join(dirname, filename))\n",
    "\n",
    "# You can write up to 20GB to the current directory (/kaggle/working/) that gets preserved as output when you create a version using \"Save & Run All\" \n",
    "# You can also write temporary files to /kaggle/temp/, but they won't be saved outside of the current session"
   ]
  },
  {
   "cell_type": "code",
   "execution_count": 5,
   "metadata": {
    "execution": {
     "iopub.execute_input": "2025-05-17T19:24:40.240442Z",
     "iopub.status.busy": "2025-05-17T19:24:40.240108Z",
     "iopub.status.idle": "2025-05-17T19:24:40.245395Z",
     "shell.execute_reply": "2025-05-17T19:24:40.244567Z",
     "shell.execute_reply.started": "2025-05-17T19:24:40.240418Z"
    },
    "trusted": true
   },
   "outputs": [],
   "source": [
    "import numpy as np\n",
    "import pandas as pd\n",
    "import matplotlib.pyplot as plt\n",
    "from tensorflow.keras.models import Sequential\n",
    "from tensorflow.keras.layers import Dense, Dropout\n",
    "from tensorflow.keras.utils import to_categorical\n",
    "from sklearn.model_selection import train_test_split"
   ]
  },
  {
   "cell_type": "code",
   "execution_count": 6,
   "metadata": {
    "execution": {
     "iopub.execute_input": "2025-05-17T19:24:54.274239Z",
     "iopub.status.busy": "2025-05-17T19:24:54.273923Z",
     "iopub.status.idle": "2025-05-17T19:24:54.278552Z",
     "shell.execute_reply": "2025-05-17T19:24:54.277632Z",
     "shell.execute_reply.started": "2025-05-17T19:24:54.274212Z"
    },
    "trusted": true
   },
   "outputs": [],
   "source": [
    "# Загрузка данных \n",
    "train_path = '/kaggle/input/mipt-bio-2025/fashion-mnist-testn/fmnist_train.csv'\n",
    "test_path = '/kaggle/input/mipt-bio-2025/fashion-mnist-testn/fmnist_test.csv'\n",
    "submission_path = '/kaggle/input/mipt-bio-2025/fashion-mnist-testn/sample_submission.csv'"
   ]
  },
  {
   "cell_type": "code",
   "execution_count": 7,
   "metadata": {
    "execution": {
     "iopub.execute_input": "2025-05-17T19:25:13.625016Z",
     "iopub.status.busy": "2025-05-17T19:25:13.624422Z",
     "iopub.status.idle": "2025-05-17T19:25:16.766718Z",
     "shell.execute_reply": "2025-05-17T19:25:16.766010Z",
     "shell.execute_reply.started": "2025-05-17T19:25:13.624988Z"
    },
    "trusted": true
   },
   "outputs": [],
   "source": [
    "train_df = pd.read_csv(train_path)\n",
    "test_df = pd.read_csv(test_path)\n",
    "submission = pd.read_csv(submission_path)"
   ]
  },
  {
   "cell_type": "code",
   "execution_count": null,
   "metadata": {
    "execution": {
     "iopub.execute_input": "2025-05-17T19:25:31.947840Z",
     "iopub.status.busy": "2025-05-17T19:25:31.947201Z",
     "iopub.status.idle": "2025-05-17T19:25:31.997764Z",
     "shell.execute_reply": "2025-05-17T19:25:31.996922Z",
     "shell.execute_reply.started": "2025-05-17T19:25:31.947813Z"
    },
    "trusted": true
   },
   "outputs": [
    {
     "data": {
      "text/plain": [
       "{'train_shape': (17040, 786),\n",
       " 'test_shape': (10000, 785),\n",
       " 'train_nan_count': 424,\n",
       " 'test_nan_count': 0}"
      ]
     },
     "execution_count": 8,
     "metadata": {},
     "output_type": "execute_result"
    }
   ],
   "source": [
    "# Проверка на пустные значения и вывод размера трейна и теста\n",
    "result = {\n",
    "    \"train_shape\": train_df.shape,\n",
    "    \"test_shape\": test_df.shape,\n",
    "    \"train_nan_count\": train_df.isna().sum().sum(),\n",
    "    \"test_nan_count\": test_df.isna().sum().sum()\n",
    "}\n",
    "\n",
    "result"
   ]
  },
  {
   "cell_type": "markdown",
   "metadata": {},
   "source": [
    "В fmnist_train.csv оказались пропущенные значения — это значит, что у некоторых пикселей нет значения яркости, и они представлены как NaN. Keras (или любая другая нейросеть) не умеет с ними работать."
   ]
  },
  {
   "cell_type": "code",
   "execution_count": 10,
   "metadata": {
    "execution": {
     "iopub.execute_input": "2025-05-17T19:47:50.492727Z",
     "iopub.status.busy": "2025-05-17T19:47:50.492424Z",
     "iopub.status.idle": "2025-05-17T19:47:50.746445Z",
     "shell.execute_reply": "2025-05-17T19:47:50.745518Z",
     "shell.execute_reply.started": "2025-05-17T19:47:50.492703Z"
    },
    "trusted": true
   },
   "outputs": [],
   "source": [
    "# Подготовка признаков\n",
    "train_df = train_df.fillna(0)  # заполняем NaN нулям, так как это не вносит шум и не искажает данные\n",
    "X = train_df.drop(columns=[\"label\", \"Id\"]).values / 255.0  # нормализация\n",
    "y = to_categorical(train_df[\"label\"].values, num_classes=10)\n",
    "\n",
    "X_test = test_df.drop(columns=[\"Id\"]).values / 255.0  # нормализация\n",
    "test_ids = test_df[\"Id\"].values"
   ]
  },
  {
   "cell_type": "code",
   "execution_count": 11,
   "metadata": {
    "execution": {
     "iopub.execute_input": "2025-05-17T19:47:58.893476Z",
     "iopub.status.busy": "2025-05-17T19:47:58.893144Z",
     "iopub.status.idle": "2025-05-17T19:47:59.057262Z",
     "shell.execute_reply": "2025-05-17T19:47:59.055979Z",
     "shell.execute_reply.started": "2025-05-17T19:47:58.893450Z"
    },
    "trusted": true
   },
   "outputs": [],
   "source": [
    "# Разделение на обучение и валидацию \n",
    "X_train, X_val, y_train, y_val = train_test_split(X, y, test_size=0.1, random_state=42)"
   ]
  },
  {
   "cell_type": "code",
   "execution_count": 15,
   "metadata": {
    "execution": {
     "iopub.execute_input": "2025-05-17T19:48:27.301473Z",
     "iopub.status.busy": "2025-05-17T19:48:27.300863Z",
     "iopub.status.idle": "2025-05-17T19:48:27.374575Z",
     "shell.execute_reply": "2025-05-17T19:48:27.373800Z",
     "shell.execute_reply.started": "2025-05-17T19:48:27.301448Z"
    },
    "trusted": true
   },
   "outputs": [],
   "source": [
    "# Модель Keras\n",
    "model = Sequential([\n",
    "    Dense(256, activation='relu', input_shape=(784,)),\n",
    "    Dropout(0.3),\n",
    "    Dense(128, activation='relu'),\n",
    "    Dropout(0.3),\n",
    "    Dense(10, activation='softmax')\n",
    "])"
   ]
  },
  {
   "cell_type": "code",
   "execution_count": 18,
   "metadata": {
    "execution": {
     "iopub.execute_input": "2025-05-17T19:48:55.769925Z",
     "iopub.status.busy": "2025-05-17T19:48:55.769614Z",
     "iopub.status.idle": "2025-05-17T19:48:55.785530Z",
     "shell.execute_reply": "2025-05-17T19:48:55.784704Z",
     "shell.execute_reply.started": "2025-05-17T19:48:55.769902Z"
    },
    "trusted": true
   },
   "outputs": [],
   "source": [
    "# Компиляция\n",
    "model.compile(optimizer='adam', loss='categorical_crossentropy', metrics=['accuracy'])"
   ]
  },
  {
   "cell_type": "code",
   "execution_count": 19,
   "metadata": {
    "execution": {
     "iopub.execute_input": "2025-05-17T19:49:02.688953Z",
     "iopub.status.busy": "2025-05-17T19:49:02.688614Z",
     "iopub.status.idle": "2025-05-17T19:49:12.842728Z",
     "shell.execute_reply": "2025-05-17T19:49:12.841998Z",
     "shell.execute_reply.started": "2025-05-17T19:49:02.688921Z"
    },
    "trusted": true
   },
   "outputs": [
    {
     "name": "stdout",
     "output_type": "stream",
     "text": [
      "Epoch 1/10\n",
      "120/120 - 3s - 28ms/step - accuracy: 0.6748 - loss: 0.8987 - val_accuracy: 0.8058 - val_loss: 0.5721\n",
      "Epoch 2/10\n",
      "120/120 - 1s - 6ms/step - accuracy: 0.7983 - loss: 0.5659 - val_accuracy: 0.8257 - val_loss: 0.4876\n",
      "Epoch 3/10\n",
      "120/120 - 1s - 6ms/step - accuracy: 0.8243 - loss: 0.4960 - val_accuracy: 0.8398 - val_loss: 0.4428\n",
      "Epoch 4/10\n",
      "120/120 - 1s - 6ms/step - accuracy: 0.8367 - loss: 0.4498 - val_accuracy: 0.8480 - val_loss: 0.4245\n",
      "Epoch 5/10\n",
      "120/120 - 1s - 6ms/step - accuracy: 0.8469 - loss: 0.4211 - val_accuracy: 0.8638 - val_loss: 0.3913\n",
      "Epoch 6/10\n",
      "120/120 - 1s - 6ms/step - accuracy: 0.8519 - loss: 0.4026 - val_accuracy: 0.8480 - val_loss: 0.4227\n",
      "Epoch 7/10\n",
      "120/120 - 1s - 6ms/step - accuracy: 0.8595 - loss: 0.3827 - val_accuracy: 0.8603 - val_loss: 0.3972\n",
      "Epoch 8/10\n",
      "120/120 - 1s - 6ms/step - accuracy: 0.8602 - loss: 0.3767 - val_accuracy: 0.8550 - val_loss: 0.3907\n",
      "Epoch 9/10\n",
      "120/120 - 1s - 6ms/step - accuracy: 0.8659 - loss: 0.3632 - val_accuracy: 0.8656 - val_loss: 0.3762\n",
      "Epoch 10/10\n",
      "120/120 - 1s - 6ms/step - accuracy: 0.8708 - loss: 0.3540 - val_accuracy: 0.8562 - val_loss: 0.3796\n"
     ]
    }
   ],
   "source": [
    "# Обучение\n",
    "history = model.fit(\n",
    "    X_train, y_train,\n",
    "    epochs=10,\n",
    "    batch_size=128,\n",
    "    validation_data=(X_val, y_val),\n",
    "    verbose=2\n",
    ")"
   ]
  },
  {
   "cell_type": "code",
   "execution_count": 22,
   "metadata": {
    "execution": {
     "iopub.execute_input": "2025-05-17T19:51:51.696789Z",
     "iopub.status.busy": "2025-05-17T19:51:51.695983Z",
     "iopub.status.idle": "2025-05-17T19:51:51.877759Z",
     "shell.execute_reply": "2025-05-17T19:51:51.876937Z",
     "shell.execute_reply.started": "2025-05-17T19:51:51.696762Z"
    },
    "trusted": true
   },
   "outputs": [
    {
     "data": {
      "image/png": "[encoded data removed]",
      "text/plain": [
       "<Figure size 640x480 with 1 Axes>"
      ]
     },
     "metadata": {},
     "output_type": "display_data"
    }
   ],
   "source": [
    "# Визуализация метрики\n",
    "plt.plot(history.history['accuracy'], label='Train Accuracy')\n",
    "plt.plot(history.history['val_accuracy'], label='Validation Accuracy')\n",
    "plt.xlabel('Epoch')\n",
    "plt.ylabel('Accuracy')\n",
    "plt.title('Training and Validation Accuracy')\n",
    "plt.grid(True)\n",
    "plt.show()"
   ]
  },
  {
   "cell_type": "code",
   "execution_count": 23,
   "metadata": {
    "execution": {
     "iopub.execute_input": "2025-05-17T19:53:21.897874Z",
     "iopub.status.busy": "2025-05-17T19:53:21.897066Z",
     "iopub.status.idle": "2025-05-17T19:53:21.902530Z",
     "shell.execute_reply": "2025-05-17T19:53:21.901608Z",
     "shell.execute_reply.started": "2025-05-17T19:53:21.897845Z"
    },
    "trusted": true
   },
   "outputs": [
    {
     "name": "stdout",
     "output_type": "stream",
     "text": [
      "Метрика train accuracy = 0.8708\n",
      "Метрика val accuracy = 0.8562\n"
     ]
    }
   ],
   "source": [
    "# Вывод метрик\n",
    "print(f\"Метрика train accuracy = {history.history['accuracy'][-1]:.4f}\")\n",
    "print(f\"Метрика val accuracy = {history.history['val_accuracy'][-1]:.4f}\")"
   ]
  },
  {
   "cell_type": "code",
   "execution_count": 24,
   "metadata": {
    "execution": {
     "iopub.execute_input": "2025-05-17T19:53:45.383057Z",
     "iopub.status.busy": "2025-05-17T19:53:45.382749Z",
     "iopub.status.idle": "2025-05-17T19:53:46.183708Z",
     "shell.execute_reply": "2025-05-17T19:53:46.183006Z",
     "shell.execute_reply.started": "2025-05-17T19:53:45.383035Z"
    },
    "trusted": true
   },
   "outputs": [
    {
     "name": "stdout",
     "output_type": "stream",
     "text": [
      "\u001b[1m313/313\u001b[0m \u001b[32m━━━━━━━━━━━━━━━━━━━━\u001b[0m\u001b[37m\u001b[0m \u001b[1m1s\u001b[0m 1ms/step\n"
     ]
    }
   ],
   "source": [
    "# Предсказание\n",
    "y_pred = model.predict(X_test)\n",
    "y_pred_classes = np.argmax(y_pred, axis=1)\n",
    "\n",
    "#submission[\"label\"] = y_pred_classes\n",
    "#submission.to_csv(\"/kaggle/working/submission.csv\", index=False)\n"
   ]
  },
  {
   "cell_type": "code",
   "execution_count": 25,
   "metadata": {
    "execution": {
     "iopub.execute_input": "2025-05-17T19:53:51.805650Z",
     "iopub.status.busy": "2025-05-17T19:53:51.805084Z",
     "iopub.status.idle": "2025-05-17T19:53:51.811787Z",
     "shell.execute_reply": "2025-05-17T19:53:51.811125Z",
     "shell.execute_reply.started": "2025-05-17T19:53:51.805626Z"
    },
    "trusted": true
   },
   "outputs": [
    {
     "data": {
      "text/plain": [
       "array([[4.8364016e-01, 1.4604743e-05, 6.5908296e-04, ..., 1.2459136e-06,\n",
       "        1.2559023e-04, 5.2282521e-06],\n",
       "       [8.1972784e-09, 9.9999923e-01, 2.3193733e-10, ..., 8.4077175e-14,\n",
       "        6.9442219e-10, 9.6417991e-13],\n",
       "       [2.5747258e-02, 1.8787348e-03, 6.5487671e-01, ..., 2.4131691e-04,\n",
       "        6.1474810e-03, 7.5389683e-04],\n",
       "       ...,\n",
       "       [3.9197027e-12, 1.6380903e-13, 5.4161564e-11, ..., 2.6489280e-12,\n",
       "        9.9999994e-01, 1.1761957e-14],\n",
       "       [6.6849398e-03, 6.8686873e-05, 3.4229057e-03, ..., 1.0276957e-04,\n",
       "        9.5391208e-01, 9.2626212e-04],\n",
       "       [2.3486137e-02, 9.6002840e-02, 8.2524888e-02, ..., 2.6973736e-04,\n",
       "        6.2062461e-03, 4.0659579e-04]], dtype=float32)"
      ]
     },
     "execution_count": 25,
     "metadata": {},
     "output_type": "execute_result"
    }
   ],
   "source": [
    "y_pred"
   ]
  }
 ],
 "metadata": {
  "kaggle": {
   "accelerator": "none",
   "dataSources": [
    {
     "databundleVersionId": 12197947,
     "sourceId": 101261,
     "sourceType": "competition"
    }
   ],
   "dockerImageVersionId": 31040,
   "isGpuEnabled": false,
   "isInternetEnabled": true,
   "language": "python",
   "sourceType": "notebook"
  },
  "kernelspec": {
   "display_name": "Python 3",
   "language": "python",
   "name": "python3"
  },
  "language_info": {
   "codemirror_mode": {
    "name": "ipython",
    "version": 3
   },
   "file_extension": ".py",
   "mimetype": "text/x-python",
   "name": "python",
   "nbconvert_exporter": "python",
   "pygments_lexer": "ipython3",
   "version": "3.11.11"
  }
 },
 "nbformat": 4,
 "nbformat_minor": 4
}

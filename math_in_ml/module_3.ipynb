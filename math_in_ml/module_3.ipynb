{
 "cells": [
  {
   "cell_type": "code",
   "execution_count": 2,
   "metadata": {},
   "outputs": [],
   "source": [
    "import numpy as np"
   ]
  },
  {
   "cell_type": "code",
   "execution_count": 3,
   "metadata": {},
   "outputs": [],
   "source": [
    "# создаем матрицу А\n",
    "A = np.array([\n",
    "    [3, 1],\n",
    "    [2, 2]\n",
    "]).T"
   ]
  },
  {
   "cell_type": "code",
   "execution_count": 4,
   "metadata": {},
   "outputs": [
    {
     "data": {
      "text/plain": [
       "array([[3, 2],\n",
       "       [1, 2]])"
      ]
     },
     "execution_count": 4,
     "metadata": {},
     "output_type": "execute_result"
    }
   ],
   "source": [
    "A"
   ]
  },
  {
   "cell_type": "code",
   "execution_count": 5,
   "metadata": {},
   "outputs": [
    {
     "name": "stdout",
     "output_type": "stream",
     "text": [
      "Собственные числа: \n",
      " [4. 1.]\n",
      "Собственные векторы: \n",
      " [[ 0.89442719 -0.70710678]\n",
      " [ 0.4472136   0.70710678]]\n"
     ]
    }
   ],
   "source": [
    "# вычисляем собственные числа и собственные векторы\n",
    "eig_values, eig_vectors = np.linalg.eig(A)\n",
    "print('Собственные числа: \\n', eig_values)\n",
    "print('Собственные векторы: \\n', eig_vectors)"
   ]
  },
  {
   "cell_type": "code",
   "execution_count": 6,
   "metadata": {},
   "outputs": [
    {
     "name": "stdout",
     "output_type": "stream",
     "text": [
      "Собственные числа: \n",
      " [13.59373746  5.03209301  1.37416954]\n",
      "Собственные векторы: \n",
      " [[ 0.45145779  0.83661458  0.10258363]\n",
      " [ 0.62348353  0.44632316 -0.77299039]\n",
      " [ 0.63832135  0.31760303  0.62606905]]\n"
     ]
    }
   ],
   "source": [
    "# создаем матрицу А\n",
    "A = np.array([\n",
    "    [1, -5, -6],\n",
    "    [4, 8, 7],\n",
    "    [5, 9, 11]\n",
    "]).T\n",
    "# вычисляем собственные числа и собственные векторы\n",
    "eig_values, eig_vectors = np.linalg.eig(A)\n",
    "print('Собственные числа: \\n', eig_values)\n",
    "print('Собственные векторы: \\n', eig_vectors)"
   ]
  },
  {
   "cell_type": "code",
   "execution_count": 7,
   "metadata": {},
   "outputs": [
    {
     "name": "stdout",
     "output_type": "stream",
     "text": [
      "Собственные числа: \n",
      " [ 2.54687092e+01  1.53129080e+00 -1.93341868e-14 -1.00000000e+00]\n",
      "Собственные векторы: \n",
      " [[-0.33176532 -0.6739195   0.5479715  -0.5312532 ]\n",
      " [-0.75622544 -0.67703635  0.72006173 -0.64930947]\n",
      " [-0.42446012 -0.00311685 -0.00452869 -0.11805627]\n",
      " [-0.37133334  0.2957103  -0.42569687  0.5312532 ]]\n"
     ]
    }
   ],
   "source": [
    "# создаем матрицу А\n",
    "A = np.array([\n",
    "    [1, -4, -5, -6],\n",
    "    [4, 12, 8, 7],\n",
    "    [5, 14, 9, 11],    [8, 15, 7, 4]\n",
    "]).T\n",
    "# вычисляем собственные числа и собственные векторы\n",
    "eig_values, eig_vectors = np.linalg.eig(A)\n",
    "print('Собственные числа: \\n', eig_values)\n",
    "print('Собственные векторы: \\n', eig_vectors)"
   ]
  },
  {
   "cell_type": "code",
   "execution_count": 8,
   "metadata": {},
   "outputs": [
    {
     "name": "stdout",
     "output_type": "stream",
     "text": [
      "Собственные числа: \n",
      " [0.+1.j 0.-1.j]\n",
      "Собственные векторы: \n",
      " [[0.70710678+0.j         0.70710678-0.j        ]\n",
      " [0.        -0.70710678j 0.        +0.70710678j]]\n"
     ]
    }
   ],
   "source": [
    "# создаем матрицу А\n",
    "A = np.array([\n",
    "    [0, 1],\n",
    "    [-1, 0],\n",
    "]).T\n",
    "# вычисляем собственные числа и собственные векторы\n",
    "eig_values, eig_vectors = np.linalg.eig(A)\n",
    "print('Собственные числа: \\n', eig_values)\n",
    "print('Собственные векторы: \\n', eig_vectors)"
   ]
  },
  {
   "cell_type": "code",
   "execution_count": 12,
   "metadata": {},
   "outputs": [
    {
     "data": {
      "text/plain": [
       "array([[ 1,  3,  5],\n",
       "       [ 4, -4,  9],\n",
       "       [13,  7, 12]])"
      ]
     },
     "execution_count": 12,
     "metadata": {},
     "output_type": "execute_result"
    }
   ],
   "source": [
    "A = np.array([\n",
    "    [1, 4, 13],\n",
    "    [3, -4, 7],\n",
    "    [5, 9, 12]\n",
    "]).T\n",
    "A"
   ]
  },
  {
   "cell_type": "code",
   "execution_count": 17,
   "metadata": {},
   "outputs": [
    {
     "name": "stdout",
     "output_type": "stream",
     "text": [
      "Собственные числа: \n",
      " [20. -4. -7.]\n",
      "Собственные векторы: \n",
      " [[-0. -1.  0.]\n",
      " [-0.  1. -1.]\n",
      " [-1.  0.  0.]]\n"
     ]
    }
   ],
   "source": [
    "eig_val, eig_vect = np.linalg.eig(A)\n",
    "print('Собственные числа: \\n', np.round(eig_val))\n",
    "print('Собственные векторы: \\n', np.round(eig_vect))"
   ]
  },
  {
   "cell_type": "code",
   "execution_count": 18,
   "metadata": {},
   "outputs": [],
   "source": [
    "A = np.array([\n",
    "    [1, 9, 4],\n",
    "    [9, 4, 7],\n",
    "    [4, 7, 12]\n",
    "]).T"
   ]
  },
  {
   "cell_type": "code",
   "execution_count": 21,
   "metadata": {},
   "outputs": [],
   "source": [
    "Gramma = A.T @ A"
   ]
  },
  {
   "cell_type": "code",
   "execution_count": 22,
   "metadata": {},
   "outputs": [
    {
     "name": "stdout",
     "output_type": "stream",
     "text": [
      "Собственные числа: \n",
      " [391.  46.  16.]\n",
      "Собственные векторы: \n",
      " [[-0. -1. -1.]\n",
      " [-1.  1. -0.]\n",
      " [-1. -0.  1.]]\n"
     ]
    }
   ],
   "source": [
    "eig_val, eig_vect = np.linalg.eig(Gramma)\n",
    "print('Собственные числа: \\n', np.round(eig_val))\n",
    "print('Собственные векторы: \\n', np.round(eig_vect))"
   ]
  },
  {
   "cell_type": "code",
   "execution_count": 23,
   "metadata": {},
   "outputs": [
    {
     "name": "stdout",
     "output_type": "stream",
     "text": [
      "[-0.24  0.86 -0.29 -0.33]\n"
     ]
    }
   ],
   "source": [
    "import numpy as np\n",
    "x1 = np.array([1, 2, 1, 1]).T\n",
    "x2 = np.array([70, 130, 65, 60]).T\n",
    "\n",
    "C = np.array([[1, 0.9922], [0.9922, 1]])\n",
    "\n",
    "eig_values, eig_vectors = np.linalg.eig(C)\n",
    "\n",
    "x1_norm = (x1 - x1.mean()) / np.linalg.norm(x1)\n",
    "x2_norm = (x2 - x2.mean()) / np.linalg.norm(x2)\n",
    "\n",
    "x_new = x1_norm * eig_vectors[0][0] + x2_norm * eig_vectors[1][0]\n",
    "\n",
    "x_new_norm = (x_new - x_new.mean()) / np.linalg.norm(x_new)\n",
    "\n",
    "print(np.round(x_new_norm, 2))\n",
    "\n",
    "## [-0.24  0.86 -0.29 -0.33]\n",
    "        "
   ]
  }
 ],
 "metadata": {
  "kernelspec": {
   "display_name": "Python 3",
   "language": "python",
   "name": "python3"
  },
  "language_info": {
   "codemirror_mode": {
    "name": "ipython",
    "version": 3
   },
   "file_extension": ".py",
   "mimetype": "text/x-python",
   "name": "python",
   "nbconvert_exporter": "python",
   "pygments_lexer": "ipython3",
   "version": "3.10.9"
  }
 },
 "nbformat": 4,
 "nbformat_minor": 2
}
